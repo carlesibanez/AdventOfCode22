{
 "cells": [
  {
   "cell_type": "markdown",
   "metadata": {},
   "source": [
    "# Day 23"
   ]
  },
  {
   "cell_type": "code",
   "execution_count": 1,
   "metadata": {},
   "outputs": [
    {
     "name": "stdout",
     "output_type": "stream",
     "text": [
      "The board is 72 (rows) x 74 (cols).\n"
     ]
    }
   ],
   "source": [
    "with open('../inputs/adventofcode.com_2022_day_23_input.txt', 'r') as f:\n",
    "    data = f.read().splitlines()\n",
    "\n",
    "print(f'The board is {len(data)-2} (rows) x {len(data[0])} (cols).')"
   ]
  },
  {
   "cell_type": "markdown",
   "metadata": {},
   "source": [
    "## Puzzle 1 and 2"
   ]
  },
  {
   "cell_type": "code",
   "execution_count": 2,
   "metadata": {},
   "outputs": [
    {
     "name": "stdout",
     "output_type": "stream",
     "text": [
      "There are 2717 elves.\n"
     ]
    }
   ],
   "source": [
    "elves = {}\n",
    "# Dictionary of elves\n",
    "# Each entry is an elf with a list of two elements:\n",
    "# 1. The elf's position (row, col)\n",
    "# 2. The elf's heading (0, 1, 2, 3) for N, S, W, E\n",
    "\n",
    "count = 0 # Counter to name the elves in the dictionary\n",
    "\n",
    "positions_dict = {}\n",
    "# Dictionary to store the positions where the elves are for easy and quick access\n",
    "\n",
    "for i in range(len(data)):\n",
    "    for j in range(len(data[i])):\n",
    "        if data[i][j] == '#':\n",
    "            elves[f'elf{count}'] = {'position': (i, j), 'heading': 0, 'consider': (-1000, -1000)}\n",
    "            count += 1\n",
    "            positions_dict[(i, j)] = True\n",
    "\n",
    "print(f'There are {len(elves)} elves.')"
   ]
  },
  {
   "cell_type": "code",
   "execution_count": 3,
   "metadata": {},
   "outputs": [
    {
     "name": "stdout",
     "output_type": "stream",
     "text": [
      "At round 10:\n",
      "    Width: 83, Height: 83\n",
      "    In the smallest rectangle that contains all elves, there are 4172 empty tiles.\n",
      "All elves are stuck at round 942.\n"
     ]
    }
   ],
   "source": [
    "# NOTE: To run part 1 set rounds to 10, to run part 2 set to a large number (e.g. 1000), looping will stop when condition is met.\n",
    "\n",
    "rounds = 1000\n",
    "heading = 0\n",
    "\n",
    "for r in range(rounds):\n",
    "    no_move = 0             # Variable to count how many elves are stuck\n",
    "    considerations = {}     # Dictionary to store the positions the elves are considering moving to\n",
    "\n",
    "    positions = positions_dict.keys()\n",
    "    for elf in elves.keys():\n",
    "        position = elves[elf][\"position\"]\n",
    "\n",
    "        # Set the \"consider\" position to an extreme value as a default\n",
    "        elves[elf][\"consider\"] = (-1000, -1000)\n",
    "\n",
    "        # If all of the 8 surrounding positions are empty -> Do not move\n",
    "        if (position[0] - 1, position[1] - 1) not in positions and (position[0] - 1, position[1]) not in positions and (position[0] - 1, position[1] + 1) not in positions and \\\n",
    "            (position[0] + 1, position[1] - 1) not in positions and (position[0] + 1, position[1]) not in positions and (position[0] + 1, position[1] + 1) not in positions and \\\n",
    "            (position[0], position[1] - 1) not in positions and (position[0], position[1] + 1) not in positions:\n",
    "            no_move += 1\n",
    "            continue\n",
    "        \n",
    "        # Check all the headings starting from the corresponding one to the round\n",
    "        for h in range(4):\n",
    "            h1 = (heading + h) % 4\n",
    "            if h1 == 0: # Heading North\n",
    "                # Check if NW, N and NE are free\n",
    "                if (position[0] - 1, position[1] - 1) in positions or (position[0] - 1, position[1]) in positions or (position[0] - 1, position[1] + 1) in positions:\n",
    "                    # Cannot move north\n",
    "                    continue\n",
    "                else:\n",
    "                    elves[elf][\"consider\"] = (position[0] - 1, position[1])\n",
    "                    # Add the consideration to the dictionary if it is not already there, else +1\n",
    "                    if considerations.get((position[0] - 1, position[1]), -1000) != -1000:\n",
    "                        considerations[(position[0] - 1, position[1])] += 1\n",
    "                    else:\n",
    "                        considerations[(position[0] - 1, position[1])] = 1\n",
    "                    break\n",
    "\n",
    "            elif h1 == 1: # Heading South\n",
    "                # Check if SW, S and SE are free\n",
    "                if (position[0] + 1, position[1] - 1) in positions or (position[0] + 1, position[1]) in positions or (position[0] + 1, position[1] + 1) in positions:\n",
    "                    # Cannot move south\n",
    "                    continue\n",
    "                else:\n",
    "                    elves[elf][\"consider\"] = (position[0] + 1, position[1])\n",
    "                    # Add the consideration to the dictionary if it is not already there, else +1\n",
    "                    if considerations.get((position[0] + 1, position[1]), -1000) != -1000:\n",
    "                        considerations[(position[0] + 1, position[1])] += 1\n",
    "                    else:\n",
    "                        considerations[(position[0] + 1, position[1])] = 1\n",
    "                    break\n",
    "                \n",
    "            elif h1 == 2: # Heading West\n",
    "                # Check if NW, W and SW are free\n",
    "                if (position[0] - 1, position[1] - 1) in positions or (position[0], position[1] - 1) in positions or (position[0] + 1, position[1] - 1) in positions:\n",
    "                    # Cannot move west\n",
    "                    continue\n",
    "                else:\n",
    "                    elves[elf][\"consider\"] = (position[0], position[1] - 1)\n",
    "                    # Add the consideration to the dictionary if it is not already there, else +1\n",
    "                    if considerations.get((position[0], position[1] - 1), -1000) != -1000:\n",
    "                        considerations[(position[0], position[1] - 1)] += 1\n",
    "                    else:\n",
    "                        considerations[(position[0], position[1] - 1)] = 1\n",
    "                    break\n",
    "\n",
    "            elif h1 == 3: # Heading East\n",
    "                # Check if NE, E and SE are free\n",
    "                if (position[0] - 1, position[1] + 1) in positions or (position[0], position[1] + 1) in positions or (position[0] + 1, position[1] + 1) in positions:\n",
    "                    # Cannot move east\n",
    "                    continue\n",
    "                else:\n",
    "                    elves[elf][\"consider\"] = (position[0], position[1] + 1)\n",
    "                    # Add the consideration to the dictionary if it is not already there, else +1\n",
    "                    if considerations.get((position[0], position[1] + 1), -1000) != -1000:\n",
    "                        considerations[(position[0], position[1] + 1)] += 1\n",
    "                    else:\n",
    "                        considerations[(position[0], position[1] + 1)] = 1\n",
    "                    break\n",
    "    \n",
    "    # Second part of the round -> Move if noone else is moving there\n",
    "    for elf in elves.keys():\n",
    "        consider = elves[elf][\"consider\"]\n",
    "\n",
    "        # If the considered position is the extreme value, or more than one elves are considering -> do not move\n",
    "        if consider == (-1000, -1000) or considerations[consider] > 1:\n",
    "            # Cannot move to the desired position\n",
    "            continue\n",
    "\n",
    "        else:   # Desired position is free, move there\n",
    "            # Remove position form the position dict and add the new one\n",
    "            del positions_dict[elves[elf][\"position\"]]\n",
    "            positions_dict[elves[elf][\"consider\"]] = True\n",
    "\n",
    "            # Update position to the new one\n",
    "            elves[elf][\"position\"] = consider\n",
    "\n",
    "    heading = (heading + 1) % 4\n",
    "\n",
    "    if no_move == len(elves):\n",
    "        print(f'All elves are stuck at round {r+1}.')\n",
    "        break\n",
    "\n",
    "    if r == 9:\n",
    "        print('At round 10:')\n",
    "        min_row = min([elves[elf]['position'][0] for elf in elves.keys()])\n",
    "        max_row = max([elves[elf]['position'][0] for elf in elves.keys()])\n",
    "        min_col = min([elves[elf]['position'][1] for elf in elves.keys()])\n",
    "        max_col = max([elves[elf]['position'][1] for elf in elves.keys()])\n",
    "\n",
    "        width = max_col - min_col + 1\n",
    "        height = max_row - min_row + 1\n",
    "        print(f'    Width: {width}, Height: {height}')\n",
    "\n",
    "        num_empty_tiles = width * height - len(elves)\n",
    "        print(f'    In the smallest rectangle that contains all elves, there are {num_empty_tiles} empty tiles.')\n",
    "\n",
    "        # draw_board(elves) # Uncomment to see the state of the board\n",
    "\n"
   ]
  },
  {
   "cell_type": "code",
   "execution_count": 4,
   "metadata": {},
   "outputs": [],
   "source": [
    "# Helper function to draw the board\n",
    "def draw_board(elves):\n",
    "    row_offset = abs(min(min([elves[elf]['position'][0] for elf in elves.keys()]), 0))\n",
    "    max_row = max([elves[elf]['position'][0] for elf in elves.keys()])\n",
    "    col_offset = abs(min(min([elves[elf]['position'][1] for elf in elves.keys()]), 0))\n",
    "    max_col = max([elves[elf]['position'][1] for elf in elves.keys()])\n",
    "    print(f'Row offset: {row_offset}, Col offset: {col_offset}')\n",
    "\n",
    "    positions = [(elves[elf]['position'][0]+row_offset, elves[elf]['position'][1]+col_offset) for elf in elves.keys()]\n",
    "\n",
    "    height = max_row + row_offset\n",
    "    width = max_col + col_offset\n",
    "\n",
    "    for i in range(height+1):\n",
    "        row = ''\n",
    "        for j in range(width+1):\n",
    "            if (i, j) in positions:\n",
    "                row += '#'\n",
    "            else:\n",
    "                row += '.'\n",
    "        print(row) "
   ]
  }
 ],
 "metadata": {
  "kernelspec": {
   "display_name": "venv",
   "language": "python",
   "name": "python3"
  },
  "language_info": {
   "codemirror_mode": {
    "name": "ipython",
    "version": 3
   },
   "file_extension": ".py",
   "mimetype": "text/x-python",
   "name": "python",
   "nbconvert_exporter": "python",
   "pygments_lexer": "ipython3",
   "version": "3.8.10"
  }
 },
 "nbformat": 4,
 "nbformat_minor": 2
}
