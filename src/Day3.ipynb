{
 "cells": [
  {
   "cell_type": "markdown",
   "metadata": {},
   "source": [
    "# Day 3"
   ]
  },
  {
   "cell_type": "code",
   "execution_count": 1,
   "metadata": {},
   "outputs": [
    {
     "name": "stdout",
     "output_type": "stream",
     "text": [
      "There are 300 rucksacks.\n"
     ]
    }
   ],
   "source": [
    "# Read txt file\n",
    "with open('../inputs/adventofcode.com_2022_day_03_input.txt', 'r') as f:\n",
    "    data = f.read().splitlines()\n",
    "\n",
    "print(f'There are {len(data)} rucksacks.')"
   ]
  },
  {
   "cell_type": "markdown",
   "metadata": {},
   "source": [
    "## Puzzle 1"
   ]
  },
  {
   "cell_type": "code",
   "execution_count": 2,
   "metadata": {},
   "outputs": [],
   "source": [
    "import string\n",
    "\n",
    "# Store in a dictionary the priority of each letter\n",
    "scores = {}\n",
    "for i, letter in enumerate(string.ascii_lowercase):\n",
    "    scores[letter] = i + 1\n",
    "for i, letter in enumerate(string.ascii_uppercase):\n",
    "    scores[letter] = i + 27"
   ]
  },
  {
   "cell_type": "code",
   "execution_count": 3,
   "metadata": {},
   "outputs": [
    {
     "name": "stdout",
     "output_type": "stream",
     "text": [
      "The total score is 7691.\n"
     ]
    }
   ],
   "source": [
    "total_score = 0\n",
    "# Iterate over the bags, to find matching element in both compartments\n",
    "for i, bag in enumerate(data):\n",
    "    assert len(bag) % 2 == 0, f'Bag {i} contains an odd number of items.'\n",
    "\n",
    "    comp1 = bag[:len(bag)//2]\n",
    "    comp2 = bag[len(bag)//2:]\n",
    "    for item in comp1:\n",
    "        # Find the matching item in the other compartment\n",
    "        if item in comp2:\n",
    "            # print(f'The common item in bag {i} ({bag}) is {item}. {comp1=} {comp2=} {scores[item]=}')\n",
    "            total_score += scores[item]\n",
    "            break # Break the loop to avoid counting the same item twice\n",
    "\n",
    "print(f'The total score is {total_score}.')"
   ]
  },
  {
   "cell_type": "markdown",
   "metadata": {},
   "source": [
    "## Puzzle 2"
   ]
  },
  {
   "cell_type": "code",
   "execution_count": 4,
   "metadata": {},
   "outputs": [
    {
     "name": "stdout",
     "output_type": "stream",
     "text": [
      "The total score is 2508.\n"
     ]
    }
   ],
   "source": [
    "total_score = 0\n",
    "for i in range(len(data) // 3):\n",
    "    bag1, bag2, bag3 = data[i*3], data[i*3+1], data[i*3+2]\n",
    "    for item in bag1:\n",
    "        if item in bag2 and item in bag3:\n",
    "            # print(f'The common item in group {i} is {item}.')\n",
    "            total_score += scores[item]\n",
    "            break # Break the loop to avoid counting the same item twice\n",
    "        \n",
    "print(f'The total score is {total_score}.')"
   ]
  }
 ],
 "metadata": {
  "kernelspec": {
   "display_name": "venv",
   "language": "python",
   "name": "python3"
  },
  "language_info": {
   "codemirror_mode": {
    "name": "ipython",
    "version": 3
   },
   "file_extension": ".py",
   "mimetype": "text/x-python",
   "name": "python",
   "nbconvert_exporter": "python",
   "pygments_lexer": "ipython3",
   "version": "3.8.10"
  },
  "orig_nbformat": 4
 },
 "nbformat": 4,
 "nbformat_minor": 2
}
