{
 "cells": [
  {
   "cell_type": "markdown",
   "metadata": {},
   "source": [
    "# Day 6"
   ]
  },
  {
   "cell_type": "markdown",
   "metadata": {},
   "source": [
    "## Puzzle 1"
   ]
  },
  {
   "cell_type": "code",
   "execution_count": 2,
   "metadata": {},
   "outputs": [
    {
     "name": "stdout",
     "output_type": "stream",
     "text": [
      "The datastream contains 4096 characters.\n"
     ]
    }
   ],
   "source": [
    "with open('../inputs/adventofcode.com_2022_day_6_input.txt', 'r') as f:\n",
    "    data = f.read()\n",
    "\n",
    "print(f'The datastream contains {len(data)} characters.')"
   ]
  },
  {
   "cell_type": "code",
   "execution_count": 7,
   "metadata": {},
   "outputs": [
    {
     "name": "stdout",
     "output_type": "stream",
     "text": [
      "All characters are different after 1080 characters: dcmv\n"
     ]
    }
   ],
   "source": [
    "for idx in range(4, len(data)+1):\n",
    "    if len(list(set(data[idx-4:idx]))) == 4:\n",
    "        print(f'All characters are different after {idx} characters: {data[idx-4:idx]}')\n",
    "        break"
   ]
  },
  {
   "cell_type": "markdown",
   "metadata": {},
   "source": [
    "## Puzzle 2"
   ]
  },
  {
   "cell_type": "code",
   "execution_count": 8,
   "metadata": {},
   "outputs": [
    {
     "name": "stdout",
     "output_type": "stream",
     "text": [
      "All characters are different after 3645 characters: sblmzdwqcrftvn\n"
     ]
    }
   ],
   "source": [
    "for idx in range(14, len(data)+1):\n",
    "    if len(list(set(data[idx-14:idx]))) == 14:\n",
    "        print(f'All characters are different after {idx} characters: {data[idx-14:idx]}')\n",
    "        break"
   ]
  }
 ],
 "metadata": {
  "kernelspec": {
   "display_name": "venv",
   "language": "python",
   "name": "python3"
  },
  "language_info": {
   "codemirror_mode": {
    "name": "ipython",
    "version": 3
   },
   "file_extension": ".py",
   "mimetype": "text/x-python",
   "name": "python",
   "nbconvert_exporter": "python",
   "pygments_lexer": "ipython3",
   "version": "3.8.10"
  },
  "orig_nbformat": 4
 },
 "nbformat": 4,
 "nbformat_minor": 2
}
