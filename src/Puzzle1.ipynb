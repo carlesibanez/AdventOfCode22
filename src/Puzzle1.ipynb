{
 "cells": [
  {
   "cell_type": "markdown",
   "metadata": {},
   "source": [
    "# Day 1"
   ]
  },
  {
   "cell_type": "markdown",
   "metadata": {},
   "source": [
    "## Puzzle 1"
   ]
  },
  {
   "cell_type": "code",
   "execution_count": 12,
   "metadata": {},
   "outputs": [
    {
     "name": "stdout",
     "output_type": "stream",
     "text": [
      "There are 2242 items in the list.\n"
     ]
    }
   ],
   "source": [
    "user_input = input(\"Enter the text: \")\n",
    "\n",
    "# The text is splittet on blank spaces as the newline is not conserved\n",
    "print(f'There are {len(user_input.split(\" \"))} items in the list.')"
   ]
  },
  {
   "cell_type": "code",
   "execution_count": 18,
   "metadata": {},
   "outputs": [
    {
     "name": "stdout",
     "output_type": "stream",
     "text": [
      "There are 240 elves. Of which the the one with the most calories has 68442.\n"
     ]
    }
   ],
   "source": [
    "# Declare a list to keep track of the totals\n",
    "totals = []\n",
    "total = 0\n",
    "for item in user_input.split(' '):\n",
    "    # If the item is not empty, add it to the total\n",
    "    if item != '':\n",
    "        total += int(item)\n",
    "\n",
    "    # If the item is empty, add the total to the list and reset the total\n",
    "    else:\n",
    "        totals.append(total)\n",
    "        total = 0\n",
    "        \n",
    "totals.append(total)\n",
    "\n",
    "print(f'There are {len(totals)} elves. Of which the the one with the most calories has {max(totals)}.')\n"
   ]
  }
 ],
 "metadata": {
  "kernelspec": {
   "display_name": "venv",
   "language": "python",
   "name": "python3"
  },
  "language_info": {
   "codemirror_mode": {
    "name": "ipython",
    "version": 3
   },
   "file_extension": ".py",
   "mimetype": "text/x-python",
   "name": "python",
   "nbconvert_exporter": "python",
   "pygments_lexer": "ipython3",
   "version": "3.8.10"
  },
  "orig_nbformat": 4
 },
 "nbformat": 4,
 "nbformat_minor": 2
}
