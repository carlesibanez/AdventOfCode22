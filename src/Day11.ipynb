{
 "cells": [
  {
   "cell_type": "markdown",
   "metadata": {},
   "source": [
    "# Day 11"
   ]
  },
  {
   "cell_type": "markdown",
   "metadata": {},
   "source": [
    "## Puzzle 1"
   ]
  },
  {
   "cell_type": "code",
   "execution_count": 39,
   "metadata": {},
   "outputs": [],
   "source": [
    "import logging\n",
    "from tqdm import tqdm\n",
    "logging.getLogger().setLevel(logging.INFO)"
   ]
  },
  {
   "cell_type": "code",
   "execution_count": 48,
   "metadata": {},
   "outputs": [
    {
     "name": "stdout",
     "output_type": "stream",
     "text": [
      "The file contains 55 commands.\n"
     ]
    }
   ],
   "source": [
    "with open('../inputs/adventofcode.com_2022_day_11_input.txt', 'r') as f:\n",
    "    data = f.read().splitlines()\n",
    "\n",
    "print(f'The file contains {len(data)} commands.')"
   ]
  },
  {
   "cell_type": "code",
   "execution_count": 49,
   "metadata": {},
   "outputs": [
    {
     "name": "stderr",
     "output_type": "stream",
     "text": [
      "INFO:root:Loading monkeys to dictionary\n"
     ]
    },
    {
     "name": "stdout",
     "output_type": "stream",
     "text": [
      "Monkey 0:\n",
      "\tItems: [98, 70, 75, 80, 84, 89, 55, 98]\n",
      "\tOperation: new = old * 2\n",
      "\tCondition: divisible by 11\n",
      "\tTrue: 1, False: 4\n",
      "Monkey 1:\n",
      "\tItems: [59]\n",
      "\tOperation: new = old * old\n",
      "\tCondition: divisible by 19\n",
      "\tTrue: 7, False: 3\n",
      "Monkey 2:\n",
      "\tItems: [77, 95, 54, 65, 89]\n",
      "\tOperation: new = old + 6\n",
      "\tCondition: divisible by 7\n",
      "\tTrue: 0, False: 5\n",
      "Monkey 3:\n",
      "\tItems: [71, 64, 75]\n",
      "\tOperation: new = old + 2\n",
      "\tCondition: divisible by 17\n",
      "\tTrue: 6, False: 2\n",
      "Monkey 4:\n",
      "\tItems: [74, 55, 87, 98]\n",
      "\tOperation: new = old * 11\n",
      "\tCondition: divisible by 3\n",
      "\tTrue: 1, False: 7\n",
      "Monkey 5:\n",
      "\tItems: [90, 98, 85, 52, 91, 60]\n",
      "\tOperation: new = old + 7\n",
      "\tCondition: divisible by 5\n",
      "\tTrue: 0, False: 4\n",
      "Monkey 6:\n",
      "\tItems: [99, 51]\n",
      "\tOperation: new = old + 1\n",
      "\tCondition: divisible by 13\n",
      "\tTrue: 5, False: 2\n",
      "Monkey 7:\n",
      "\tItems: [98, 94, 59, 76, 51, 65, 75]\n",
      "\tOperation: new = old + 5\n",
      "\tCondition: divisible by 2\n",
      "\tTrue: 3, False: 6\n"
     ]
    }
   ],
   "source": [
    "logging.info(f'Loading monkeys to dictionary')\n",
    "monkeys = {}\n",
    "for i in range(len(data)//7 + 1):\n",
    "    monkey = data[i*7:i*7+6]\n",
    "    num_monkey = monkey[0].split(\" \")[1].split(\":\")[0]\n",
    "    print(f'Monkey {num_monkey}:')\n",
    "    # Add monkey to dict\n",
    "    monkeys.setdefault(num_monkey, {})\n",
    "    # Add items to monkey\n",
    "    items = [int(num) for num in monkey[1].split(\":\")[1].split(\",\")]\n",
    "    monkeys[num_monkey][\"items\"] = items\n",
    "    print(f'\\tItems: {monkeys[num_monkey][\"items\"]}')\n",
    "\n",
    "    # Add operation to monkey\n",
    "    monkeys[num_monkey][\"operation\"] = {\"v\": monkey[2].split(\" \")[7], \"o\": monkey[2].split(\" \")[6]}\n",
    "    print(f'\\tOperation: new = old {monkeys[num_monkey][\"operation\"][\"o\"]} {monkeys[num_monkey][\"operation\"][\"v\"]}')\n",
    "\n",
    "    # Add condition to monkey\n",
    "    monkeys[num_monkey][\"divisible\"] = monkey[3].split(\" \")[-1]\n",
    "    print(f'\\tCondition: divisible by {monkeys[num_monkey][\"divisible\"]}')\n",
    "\n",
    "    # Add true and false to monkey\n",
    "    monkeys[num_monkey][\"true\"] = monkey[4].split(\" \")[-1]\n",
    "    monkeys[num_monkey][\"false\"] = monkey[5].split(\" \")[-1]\n",
    "\n",
    "    monkeys[num_monkey][\"counter\"] = 0\n",
    "    \n",
    "    print(f'\\tTrue: {monkeys[num_monkey][\"true\"]}, False: {monkeys[num_monkey][\"false\"]}')\n"
   ]
  },
  {
   "cell_type": "code",
   "execution_count": 45,
   "metadata": {},
   "outputs": [
    {
     "name": "stdout",
     "output_type": "stream",
     "text": [
      "Monkey 0 has inspected: 36 items\n",
      "Monkey 1 has inspected: 26 items\n",
      "Monkey 2 has inspected: 227 items\n",
      "Monkey 3 has inspected: 63 items\n",
      "Monkey 4 has inspected: 239 items\n",
      "Monkey 5 has inspected: 223 items\n",
      "Monkey 6 has inspected: 184 items\n",
      "Monkey 7 has inspected: 221 items\n",
      "Business: 239 * 227 = 54253\n"
     ]
    }
   ],
   "source": [
    "rounds = 20\n",
    "for _ in range(rounds):\n",
    "    for monkey in sorted(monkeys.keys()):\n",
    "        monkeys[monkey][\"counter\"] += len(monkeys[monkey][\"items\"])\n",
    "        logging.debug(f'Monkey {monkey} has inspected {monkeys[monkey][\"counter\"]} items')\n",
    "        logging.debug(f'Monkey {monkey} current items = {monkeys[monkey][\"items\"]}')\n",
    "        while len(monkeys[monkey][\"items\"]) > 0:\n",
    "            item = monkeys[monkey][\"items\"].pop(0)\n",
    "            logging.debug(f'\\tEvaluating item {item}')\n",
    "\n",
    "            if monkeys[monkey][\"operation\"][\"v\"] == \"old\": \n",
    "                val = item\n",
    "            else:\n",
    "                val = int(monkeys[monkey][\"operation\"][\"v\"])\n",
    "            logging.debug(f'\\t\\tThe operation is {item} {monkeys[monkey][\"operation\"][\"o\"]} {val}')\n",
    "\n",
    "            if monkeys[monkey][\"operation\"][\"o\"] == \"+\":\n",
    "                item += val\n",
    "            elif monkeys[monkey][\"operation\"][\"o\"] == \"-\":\n",
    "                item -= val\n",
    "            elif monkeys[monkey][\"operation\"][\"o\"] == \"*\":\n",
    "                item *= val\n",
    "            elif monkeys[monkey][\"operation\"][\"o\"] == \"/\":\n",
    "                item /= val\n",
    "            item //= 3\n",
    "\n",
    "            logging.debug(f'\\t\\tNew item {item} divisible by {monkeys[monkey][\"divisible\"]}? = {item % int(monkeys[monkey][\"divisible\"]) == 0}')\n",
    "            if item % int(monkeys[monkey][\"divisible\"]) == 0:\n",
    "                monkeys[monkeys[monkey][\"true\"]][\"items\"].append(item)\n",
    "                logging.debug(f'\\t\\tThrowing item to monkey {monkeys[monkey][\"true\"]}. Updated items: {monkeys[monkeys[monkey][\"true\"]][\"items\"]}')\n",
    "            else:\n",
    "                monkeys[monkeys[monkey][\"false\"]][\"items\"].append(item)\n",
    "                logging.debug(f'\\t\\tThrowing item to monkey {monkeys[monkey][\"false\"]}. Updated items: {monkeys[monkeys[monkey][\"false\"]][\"items\"]}')\n",
    "    \n",
    "for monkey in sorted(monkeys.keys()):\n",
    "    print(f'Monkey {monkey} has inspected: {monkeys[monkey][\"counter\"]} items')\n",
    "\n",
    "business = [monkeys[i][\"counter\"] for i in monkeys.keys()]\n",
    "business.sort()\n",
    "print(f'Business: {business[-1]} * {business[-2]} = {business[-1] * business[-2]}')\n",
    "        "
   ]
  },
  {
   "cell_type": "markdown",
   "metadata": {},
   "source": [
    "## Puzzle 2"
   ]
  },
  {
   "cell_type": "markdown",
   "metadata": {},
   "source": [
    "Before running this, repeat loading the data, and populate the dictionary again."
   ]
  },
  {
   "cell_type": "code",
   "execution_count": 50,
   "metadata": {},
   "outputs": [
    {
     "name": "stderr",
     "output_type": "stream",
     "text": [
      "  1%|          | 81/10000 [00:00<00:12, 803.76it/s]"
     ]
    },
    {
     "name": "stderr",
     "output_type": "stream",
     "text": [
      "100%|██████████| 10000/10000 [00:07<00:00, 1383.23it/s]"
     ]
    },
    {
     "name": "stdout",
     "output_type": "stream",
     "text": [
      "Monkey 0 has inspected: 16391 items\n",
      "Monkey 1 has inspected: 81776 items\n",
      "Monkey 2 has inspected: 114536 items\n",
      "Monkey 3 has inspected: 98150 items\n",
      "Monkey 4 has inspected: 114545 items\n",
      "Monkey 5 has inspected: 98215 items\n",
      "Monkey 6 has inspected: 16411 items\n",
      "Monkey 7 has inspected: 49119 items\n",
      "Business: 114545 * 114536 = 13119526120\n"
     ]
    },
    {
     "name": "stderr",
     "output_type": "stream",
     "text": [
      "\n"
     ]
    }
   ],
   "source": [
    "lcm = 1\n",
    "for monkey in sorted(monkeys.keys()):\n",
    "    lcm *= int(monkeys[monkey][\"divisible\"])\n",
    "\n",
    "rounds = 10000\n",
    "for _ in tqdm(range(rounds)):\n",
    "    for monkey in sorted(monkeys.keys()):\n",
    "        monkeys[monkey][\"counter\"] += len(monkeys[monkey][\"items\"])\n",
    "        logging.debug(f'Monkey {monkey} has inspected {monkeys[monkey][\"counter\"]} items')\n",
    "        logging.debug(f'Monkey {monkey} current items = {monkeys[monkey][\"items\"]}')\n",
    "        while len(monkeys[monkey][\"items\"]) > 0:\n",
    "            item = monkeys[monkey][\"items\"].pop(0)\n",
    "            logging.debug(f'\\tEvaluating item {item}')\n",
    "\n",
    "            if monkeys[monkey][\"operation\"][\"v\"] == \"old\": \n",
    "                val = item\n",
    "            else:\n",
    "                val = int(monkeys[monkey][\"operation\"][\"v\"])\n",
    "            logging.debug(f'\\t\\tThe operation is {item} {monkeys[monkey][\"operation\"][\"o\"]} {val}')\n",
    "\n",
    "            if monkeys[monkey][\"operation\"][\"o\"] == \"+\":\n",
    "                item += val\n",
    "            elif monkeys[monkey][\"operation\"][\"o\"] == \"-\":\n",
    "                item -= val\n",
    "            elif monkeys[monkey][\"operation\"][\"o\"] == \"*\":\n",
    "                item *= val\n",
    "            elif monkeys[monkey][\"operation\"][\"o\"] == \"/\":\n",
    "                item /= val\n",
    "\n",
    "            logging.debug(f'\\t\\tNew item {item} divisible by {monkeys[monkey][\"divisible\"]}? = {item % int(monkeys[monkey][\"divisible\"]) == 0}')\n",
    "            if item % int(monkeys[monkey][\"divisible\"]) == 0:\n",
    "                item = (item % lcm)\n",
    "                monkeys[monkeys[monkey][\"true\"]][\"items\"].append(item)\n",
    "                logging.debug(f'\\t\\tThrowing item to monkey {monkeys[monkey][\"true\"]}. Updated items: {monkeys[monkeys[monkey][\"true\"]][\"items\"]}')\n",
    "            else:\n",
    "                item = (item % lcm)\n",
    "                monkeys[monkeys[monkey][\"false\"]][\"items\"].append(item)\n",
    "                logging.debug(f'\\t\\tThrowing item to monkey {monkeys[monkey][\"false\"]}. Updated items: {monkeys[monkeys[monkey][\"false\"]][\"items\"]}')\n",
    "        \n",
    "for monkey in sorted(monkeys.keys()):\n",
    "    print(f'Monkey {monkey} has inspected: {monkeys[monkey][\"counter\"]} items')\n",
    "    \n",
    "business = [monkeys[i][\"counter\"] for i in monkeys.keys()]\n",
    "business.sort()\n",
    "print(f'Business: {business[-1]} * {business[-2]} = {business[-1] * business[-2]}')"
   ]
  }
 ],
 "metadata": {
  "kernelspec": {
   "display_name": "venv",
   "language": "python",
   "name": "python3"
  },
  "language_info": {
   "codemirror_mode": {
    "name": "ipython",
    "version": 3
   },
   "file_extension": ".py",
   "mimetype": "text/x-python",
   "name": "python",
   "nbconvert_exporter": "python",
   "pygments_lexer": "ipython3",
   "version": "3.8.10"
  },
  "orig_nbformat": 4
 },
 "nbformat": 4,
 "nbformat_minor": 2
}
