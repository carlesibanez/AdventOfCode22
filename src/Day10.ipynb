{
 "cells": [
  {
   "cell_type": "markdown",
   "metadata": {},
   "source": [
    "# Day 10"
   ]
  },
  {
   "cell_type": "code",
   "execution_count": 1,
   "metadata": {},
   "outputs": [
    {
     "name": "stdout",
     "output_type": "stream",
     "text": [
      "The file contains 138 commands.\n"
     ]
    }
   ],
   "source": [
    "with open('../inputs/adventofcode.com_2022_day_10_input.txt', 'r') as f:\n",
    "    data = f.read().splitlines()\n",
    "\n",
    "print(f'The file contains {len(data)} commands.')"
   ]
  },
  {
   "cell_type": "markdown",
   "metadata": {},
   "source": [
    "## Puzzle 2"
   ]
  },
  {
   "cell_type": "code",
   "execution_count": 2,
   "metadata": {},
   "outputs": [
    {
     "name": "stdout",
     "output_type": "stream",
     "text": [
      "The total is 14920.\n"
     ]
    }
   ],
   "source": [
    "checks = [20, 60, 100, 140, 180, 220]\n",
    "cycles = 0\n",
    "X = [1]\n",
    "\n",
    "for line in data:\n",
    "    # print(line)\n",
    "    if line.startswith('noop'):\n",
    "        cycles += 1\n",
    "        X.append(X[-1])\n",
    "    elif line.startswith('addx'):   # Line begins with addx\n",
    "        X.extend([X[-1]])\n",
    "        X.append(X[-1] + int(line.split()[1]))\n",
    "        \n",
    "    else:\n",
    "        pass\n",
    "\n",
    "total = 0\n",
    "for check in checks:\n",
    "    total += check * X[check-1]\n",
    "\n",
    "print(f'The total is {total}.')"
   ]
  },
  {
   "cell_type": "markdown",
   "metadata": {},
   "source": [
    "## Puzzle 2"
   ]
  },
  {
   "cell_type": "code",
   "execution_count": 3,
   "metadata": {},
   "outputs": [
    {
     "name": "stdout",
     "output_type": "stream",
     "text": [
      "###..#..#..##...##...##..###..#..#.####.\n",
      "#..#.#..#.#..#.#..#.#..#.#..#.#..#....#.\n",
      "###..#..#.#....#..#.#....###..#..#...#..\n",
      "#..#.#..#.#....####.#....#..#.#..#..#...\n",
      "#..#.#..#.#..#.#..#.#..#.#..#.#..#.#....\n",
      "###...##...##..#..#..##..###...##..####.\n",
      "."
     ]
    }
   ],
   "source": [
    "for i, v in enumerate(X):\n",
    "    position = i % 40\n",
    "    left = X[i]-1\n",
    "    right = X[i]+1\n",
    "    if position >= left and position <= right:\n",
    "        print('#', end='')\n",
    "    else:\n",
    "        print('.', end='')\n",
    "    if position == 39:\n",
    "        print()"
   ]
  }
 ],
 "metadata": {
  "kernelspec": {
   "display_name": "venv",
   "language": "python",
   "name": "python3"
  },
  "language_info": {
   "codemirror_mode": {
    "name": "ipython",
    "version": 3
   },
   "file_extension": ".py",
   "mimetype": "text/x-python",
   "name": "python",
   "nbconvert_exporter": "python",
   "pygments_lexer": "ipython3",
   "version": "3.8.10"
  },
  "orig_nbformat": 4
 },
 "nbformat": 4,
 "nbformat_minor": 2
}
