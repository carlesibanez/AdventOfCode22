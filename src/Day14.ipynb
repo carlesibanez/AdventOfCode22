{
 "cells": [
  {
   "cell_type": "markdown",
   "metadata": {},
   "source": [
    "# Day 14"
   ]
  },
  {
   "cell_type": "code",
   "execution_count": 1,
   "metadata": {},
   "outputs": [
    {
     "name": "stdout",
     "output_type": "stream",
     "text": [
      "The file contains 153 lines.\n"
     ]
    }
   ],
   "source": [
    "with open('../inputs/adventofcode.com_2022_day_14_input.txt', 'r') as f:\n",
    "    data = f.read().splitlines()\n",
    "\n",
    "print(f'The file contains {len(data)} lines.')"
   ]
  },
  {
   "cell_type": "code",
   "execution_count": 2,
   "metadata": {},
   "outputs": [],
   "source": [
    "# Imports\n",
    "import numpy as np"
   ]
  },
  {
   "cell_type": "markdown",
   "metadata": {},
   "source": [
    "## Puzzle 1"
   ]
  },
  {
   "cell_type": "code",
   "execution_count": 3,
   "metadata": {},
   "outputs": [],
   "source": [
    "# Generate board\n",
    "board = np.zeros((1000, 1000))\n",
    "\n",
    "for line in data:\n",
    "    points = line.split(' -> ')\n",
    "    y0, x0 = points[0].split(',')\n",
    "\n",
    "    for point in points[1:]:\n",
    "        y, x = point.split(',')\n",
    "\n",
    "        diff_x = int(x) - int(x0)\n",
    "        diff_y = int(y) - int(y0)\n",
    "\n",
    "        board[int(x0), int(y0)] = 1\n",
    "\n",
    "        if diff_x == 0:     # Move in y direction\n",
    "            for i in range(1, abs(diff_y) + 1):\n",
    "                board[int(x0), int(y0) + i * (diff_y // abs(diff_y))] = 1\n",
    "        elif diff_y == 0:\n",
    "            for i in range(1, abs(diff_x) + 1):\n",
    "                board[int(x0) + i * (diff_x // abs(diff_x)), int(y0)] = 1\n",
    "\n",
    "        # Update starting points\n",
    "        x0, y0 = x, y\n",
    "        \n"
   ]
  },
  {
   "cell_type": "code",
   "execution_count": 4,
   "metadata": {},
   "outputs": [],
   "source": [
    "# To save the board to a file, Uncomment this cell\n",
    "# This is only for visualisation purposes, the solution is not generated from the file\n",
    "\n",
    "# with open('board.txt', 'w') as f:\n",
    "#     for i in range(len(board)):\n",
    "#         for j in range(len(board[i])):\n",
    "#             if board[i, j] == 1:\n",
    "#                 f.write('#')\n",
    "#             else:\n",
    "#                 f.write('.')\n",
    "#         f.write('\\n')"
   ]
  },
  {
   "cell_type": "code",
   "execution_count": 5,
   "metadata": {},
   "outputs": [
    {
     "name": "stdout",
     "output_type": "stream",
     "text": [
      "The number of sand units is 795.\n"
     ]
    }
   ],
   "source": [
    "start_y, start_x = 0, 500\n",
    "count = 0\n",
    "\n",
    "max_depth = np.max(np.nonzero(np.sum(board, axis=1)))\n",
    "\n",
    "while True:\n",
    "    new_block_y, new_block_x = start_y, start_x\n",
    "\n",
    "    while new_block_y < max_depth:\n",
    "        # We move down\n",
    "        if board[new_block_y + 1, new_block_x] == 0:\n",
    "            new_block_y += 1\n",
    "        # If we can't move down, we move left or right\n",
    "        elif board[new_block_y + 1, new_block_x-1] == 0:\n",
    "            new_block_y += 1\n",
    "            new_block_x -= 1\n",
    "        elif board[new_block_y + 1, new_block_x+1] == 0:\n",
    "            new_block_y += 1\n",
    "            new_block_x += 1\n",
    "        # If we can't move left or right, we stop\n",
    "        else:\n",
    "            board[new_block_y, new_block_x] = 2\n",
    "            count += 1\n",
    "            break\n",
    "\n",
    "    # If we are at the bottom, we are done\n",
    "    if new_block_y == max_depth:\n",
    "        print(f'The number of sand units is {count}.')\n",
    "        break\n",
    "    "
   ]
  },
  {
   "cell_type": "markdown",
   "metadata": {},
   "source": [
    "## Puzzle 2"
   ]
  },
  {
   "cell_type": "code",
   "execution_count": 6,
   "metadata": {},
   "outputs": [],
   "source": [
    "# Recreate clean board\n",
    "board = np.zeros((1000, 1000))\n",
    "\n",
    "for line in data:\n",
    "    points = line.split(' -> ')\n",
    "    y0, x0 = points[0].split(',')\n",
    "\n",
    "    for point in points[1:]:\n",
    "        y, x = point.split(',')\n",
    "\n",
    "        diff_x = int(x) - int(x0)\n",
    "        diff_y = int(y) - int(y0)\n",
    "\n",
    "        board[int(x0), int(y0)] = 1\n",
    "\n",
    "        if diff_x == 0:     # Move in y direction\n",
    "            for i in range(1, abs(diff_y) + 1):\n",
    "                board[int(x0), int(y0) + i * (diff_y // abs(diff_y))] = 1\n",
    "        elif diff_y == 0:\n",
    "            for i in range(1, abs(diff_x) + 1):\n",
    "                board[int(x0) + i * (diff_x // abs(diff_x)), int(y0)] = 1\n",
    "\n",
    "        # Update starting points\n",
    "        x0, y0 = x, y\n",
    "\n",
    "# Add ground\n",
    "max_depth = np.max(np.nonzero(np.sum(board, axis=1)))\n",
    "\n",
    "board[max_depth+2, 0:1000] = 1\n"
   ]
  },
  {
   "cell_type": "code",
   "execution_count": 7,
   "metadata": {},
   "outputs": [
    {
     "name": "stdout",
     "output_type": "stream",
     "text": [
      "The number of sand units is 30214.\n"
     ]
    }
   ],
   "source": [
    "count = 0\n",
    "while True:\n",
    "    new_block_y, new_block_x = start_y, start_x\n",
    "\n",
    "    if board[new_block_y + 1, new_block_x] != 0 and board[new_block_y + 1, new_block_x-1] != 0 and board[new_block_y + 1, new_block_x+1] != 0:\n",
    "        count += 1\n",
    "        print(f'The number of sand units is {count}.')\n",
    "        break\n",
    "\n",
    "    while True:\n",
    "        if board[new_block_y + 1, new_block_x] == 0:\n",
    "            new_block_y += 1\n",
    "        # If we can't move down, we move left or right\n",
    "        elif board[new_block_y + 1, new_block_x-1] == 0:\n",
    "            new_block_y += 1\n",
    "            new_block_x -= 1\n",
    "        elif board[new_block_y + 1, new_block_x+1] == 0:\n",
    "            new_block_y += 1\n",
    "            new_block_x += 1\n",
    "        # If we can't move left or right, we stop\n",
    "        else:\n",
    "            board[new_block_y, new_block_x] = 2\n",
    "            count += 1\n",
    "            break\n"
   ]
  }
 ],
 "metadata": {
  "kernelspec": {
   "display_name": "venv",
   "language": "python",
   "name": "python3"
  },
  "language_info": {
   "codemirror_mode": {
    "name": "ipython",
    "version": 3
   },
   "file_extension": ".py",
   "mimetype": "text/x-python",
   "name": "python",
   "nbconvert_exporter": "python",
   "pygments_lexer": "ipython3",
   "version": "3.8.10"
  }
 },
 "nbformat": 4,
 "nbformat_minor": 2
}
