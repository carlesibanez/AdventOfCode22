{
 "cells": [
  {
   "cell_type": "markdown",
   "metadata": {},
   "source": [
    "# Day 8"
   ]
  },
  {
   "cell_type": "code",
   "execution_count": 1,
   "metadata": {},
   "outputs": [
    {
     "name": "stdout",
     "output_type": "stream",
     "text": [
      "The size of the grid is 99 rows times 99 columns.\n"
     ]
    }
   ],
   "source": [
    "with open('../inputs/adventofcode.com_2022_day_08_input.txt', 'r') as f:\n",
    "    data = f.read().splitlines()\n",
    "\n",
    "print(f'The size of the grid is {len(data)} rows times {len(data[0])} columns.')"
   ]
  },
  {
   "cell_type": "code",
   "execution_count": 2,
   "metadata": {},
   "outputs": [],
   "source": [
    "# Imports\n",
    "import numpy as np"
   ]
  },
  {
   "cell_type": "markdown",
   "metadata": {},
   "source": [
    "## Puzzle 1"
   ]
  },
  {
   "cell_type": "code",
   "execution_count": 3,
   "metadata": {},
   "outputs": [
    {
     "name": "stdout",
     "output_type": "stream",
     "text": [
      "(99, 99)\n"
     ]
    }
   ],
   "source": [
    "# Transform each row into a list of characters\n",
    "for i in range(len(data[0])):\n",
    "    data[i] = list(data[i])\n",
    "\n",
    "# Save it as a numpy array\n",
    "data_np = np.array(data)\n",
    "print(data_np.shape)"
   ]
  },
  {
   "cell_type": "code",
   "execution_count": 4,
   "metadata": {},
   "outputs": [
    {
     "name": "stdout",
     "output_type": "stream",
     "text": [
      "In total there are 1812 visible trees.\n"
     ]
    }
   ],
   "source": [
    "visible = np.zeros(data_np.shape)\n",
    "visible[0, :] = 1\n",
    "visible[-1, :] = 1\n",
    "visible[:, 0] = 1\n",
    "visible[:, -1] = 1\n",
    "for i in range(1, data_np.shape[0]-1):      # i = row\n",
    "    for j in range(1, data_np.shape[1]-1):  # j = column\n",
    "        left_row = max(data_np[i, :j])\n",
    "        right_row = max(data_np[i, j+1:])\n",
    "        top_col = max(data_np[:i, j])\n",
    "        bottom_col = max(data_np[i+1:, j])\n",
    "        \n",
    "        if data_np[i, j] > min(left_row, right_row, top_col, bottom_col):\n",
    "            visible[i, j] = 1\n",
    "\n",
    "print(f'In total there are {int(visible.sum())} visible trees.')"
   ]
  },
  {
   "cell_type": "markdown",
   "metadata": {},
   "source": [
    "## Puzzle 2"
   ]
  },
  {
   "cell_type": "code",
   "execution_count": 5,
   "metadata": {},
   "outputs": [
    {
     "name": "stdout",
     "output_type": "stream",
     "text": [
      "The maximum scenic score is 315495.\n"
     ]
    }
   ],
   "source": [
    "scores = np.zeros(data_np.shape)\n",
    "\n",
    "for i in range(data_np.shape[0]):      # i = row\n",
    "    for j in range(data_np.shape[1]):  # j = column\n",
    "        # Score to the left\n",
    "        score = 0\n",
    "        j2 = j-1\n",
    "        while j2 >= 0:\n",
    "            score += 1\n",
    "            if data_np[i, j2] >= data_np[i, j] or j2 == 0:\n",
    "                scores[i, j] += score\n",
    "                break\n",
    "            j2 -= 1\n",
    "        # Score to the right\n",
    "        score = 0\n",
    "        j2 = j+1\n",
    "        while j2 < data_np.shape[1]:\n",
    "            score += 1\n",
    "            if data_np[i, j2] >= data_np[i, j] or j2 == data_np.shape[1]-1:\n",
    "                scores[i, j] *= score\n",
    "                break\n",
    "            j2 += 1\n",
    "        # Score to the top\n",
    "        score = 0\n",
    "        i2 = i-1\n",
    "        while i2 >= 0:\n",
    "            score += 1\n",
    "            if data_np[i2, j] >= data_np[i, j] or i2 == 0:\n",
    "                scores[i, j] *= score\n",
    "                break\n",
    "            i2 -= 1\n",
    "        # Score to the bottom\n",
    "        score = 0\n",
    "        i2 = i+1\n",
    "        while i2 < data_np.shape[0]:\n",
    "            score += 1\n",
    "            if data_np[i2, j] >= data_np[i, j] or i2 == data_np.shape[0]-1:\n",
    "                scores[i, j] *= score\n",
    "                break\n",
    "            i2 += 1\n",
    "\n",
    "print(f'The maximum scenic score is {int(np.max(scores))}.')"
   ]
  }
 ],
 "metadata": {
  "kernelspec": {
   "display_name": "venv",
   "language": "python",
   "name": "python3"
  },
  "language_info": {
   "codemirror_mode": {
    "name": "ipython",
    "version": 3
   },
   "file_extension": ".py",
   "mimetype": "text/x-python",
   "name": "python",
   "nbconvert_exporter": "python",
   "pygments_lexer": "ipython3",
   "version": "3.8.10"
  },
  "orig_nbformat": 4
 },
 "nbformat": 4,
 "nbformat_minor": 2
}
