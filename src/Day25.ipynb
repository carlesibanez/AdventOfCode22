{
 "cells": [
  {
   "cell_type": "markdown",
   "metadata": {},
   "source": [
    "# Day 25"
   ]
  },
  {
   "cell_type": "code",
   "execution_count": 1,
   "metadata": {},
   "outputs": [
    {
     "name": "stdout",
     "output_type": "stream",
     "text": [
      "There are 112 numbers in SNAFU.\n"
     ]
    }
   ],
   "source": [
    "with open('../inputs/adventofcode.com_2022_day_25_input.txt', 'r') as f:\n",
    "    data = f.read().splitlines()\n",
    "\n",
    "print(f'There are {len(data)} numbers in SNAFU.')"
   ]
  },
  {
   "cell_type": "markdown",
   "metadata": {},
   "source": [
    "## Puzzle 1"
   ]
  },
  {
   "cell_type": "code",
   "execution_count": 2,
   "metadata": {},
   "outputs": [
    {
     "name": "stdout",
     "output_type": "stream",
     "text": [
      "The total in decimal is: 32405707664897\n"
     ]
    }
   ],
   "source": [
    "total = 0\n",
    "char2num = {'=': -2, '-': -1, '0': 0, '1': 1, '2':2}\n",
    "\n",
    "for n in data:\n",
    "    num = 0\n",
    "    for idx, c in enumerate(n[::-1]):\n",
    "        num += char2num[c] * 5**idx\n",
    "    # print(f'{n} in decimal is {num}')      # Uncomment this line to see every SNAFU number in decimal\n",
    "    total += num\n",
    "\n",
    "print(f'The total in decimal is: {total}')\n"
   ]
  },
  {
   "cell_type": "code",
   "execution_count": 3,
   "metadata": {},
   "outputs": [
    {
     "name": "stdout",
     "output_type": "stream",
     "text": [
      "The first power of five is 5**19\n",
      "The number 32405707664897 in SNAFU is 2=222-2---22=1=--1-2.\n"
     ]
    }
   ],
   "source": [
    "import numpy as np\n",
    "\n",
    "# Find power of 5 that is greater than total\n",
    "idx=0\n",
    "while True:\n",
    "    if 2*5**idx>=total:\n",
    "        break\n",
    "    idx+=1\n",
    "print(f'The first power of five is 5**{idx}')\n",
    "\n",
    "\n",
    "snafu_num = ''\n",
    "num = 0\n",
    "opt= [-2,-1,0,1,2]\n",
    "\n",
    "for p in range(idx, -1, -1):\n",
    "    options = np.array([5**p*i for i in opt]) + num\n",
    "    d = abs(total - options)\n",
    "    j = np.argmin(d)\n",
    "    snafu_num += list(char2num.keys())[j]\n",
    "    num += 5**p * opt[j]\n",
    "\n",
    "print(f'The number {total} in SNAFU is {snafu_num}.')"
   ]
  }
 ],
 "metadata": {
  "kernelspec": {
   "display_name": "venv",
   "language": "python",
   "name": "python3"
  },
  "language_info": {
   "codemirror_mode": {
    "name": "ipython",
    "version": 3
   },
   "file_extension": ".py",
   "mimetype": "text/x-python",
   "name": "python",
   "nbconvert_exporter": "python",
   "pygments_lexer": "ipython3",
   "version": "3.8.10"
  }
 },
 "nbformat": 4,
 "nbformat_minor": 2
}
