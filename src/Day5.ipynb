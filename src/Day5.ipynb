{
 "cells": [
  {
   "cell_type": "markdown",
   "metadata": {},
   "source": [
    "# Day 5"
   ]
  },
  {
   "cell_type": "code",
   "execution_count": 1,
   "metadata": {},
   "outputs": [],
   "source": [
    "# Read txt file\n",
    "with open('../inputs/adventofcode.com_2022_day_05_input.txt', 'r') as f:\n",
    "    data = f.read().splitlines()"
   ]
  },
  {
   "cell_type": "markdown",
   "metadata": {},
   "source": [
    "## Puzzle 1"
   ]
  },
  {
   "cell_type": "code",
   "execution_count": 2,
   "metadata": {},
   "outputs": [
    {
     "name": "stdout",
     "output_type": "stream",
     "text": [
      "End of data at line 9\n",
      "There are 9 stacks\n",
      "[B] [R] [B] [C] [D] [H] [D] [C] [N]\n",
      "[Q] [Q] [M] [Z] [Z] [N] [G] [G] [J]\n",
      "[C] [W] [R] [H] [H] [P] [T] [M] [B]\n",
      "    [Z] [L] [V] [B] [C] [R] [N] [M]\n",
      "        [V] [T] [N] [J] [W] [B] [W]\n",
      "            [W] [V] [F] [Z] [W] [Q]\n",
      "                [G] [V] [S] [Z] [F]\n",
      "                    [Q]     [P] [P]\n",
      "['B', 'Q', 'C']\n",
      "['R', 'Q', 'W', 'Z']\n",
      "['B', 'M', 'R', 'L', 'V']\n",
      "['C', 'Z', 'H', 'V', 'T', 'W']\n",
      "['D', 'Z', 'H', 'B', 'N', 'V', 'G']\n",
      "['H', 'N', 'P', 'C', 'J', 'F', 'V', 'Q']\n",
      "['D', 'G', 'T', 'R', 'W', 'Z', 'S']\n",
      "['C', 'G', 'M', 'N', 'B', 'W', 'Z', 'P']\n",
      "['N', 'J', 'B', 'M', 'W', 'Q', 'F', 'P']\n"
     ]
    }
   ],
   "source": [
    "for idx, line in enumerate(data):\n",
    "    if line == '':\n",
    "        break\n",
    "print(f'End of data at line {idx}')\n",
    "\n",
    "# Get the number of stacks\n",
    "num_stacks = max([int(x) for x in data[idx-1].split(' ') if x != ''])\n",
    "print(f'There are {num_stacks} stacks')\n",
    "\n",
    "# Initialize the stacks as a list of lists\n",
    "stacks = [[] for _ in range(num_stacks)]\n",
    "for line in data[idx-2::-1]:\n",
    "    print(line)\n",
    "    for index in range(1, num_stacks+1):\n",
    "        if line[(index-1)*4 + 1] != ' ':\n",
    "            stacks[index-1].append(line[(index-1)*4 + 1])\n",
    "  \n",
    "# Print the stacks\n",
    "for stack in stacks:\n",
    "    print(stack)"
   ]
  },
  {
   "cell_type": "code",
   "execution_count": 3,
   "metadata": {},
   "outputs": [],
   "source": [
    "# For each line, move the crates one by one\n",
    "for line in data[idx+1:]:\n",
    "    count, src, dst = line.split(' ')[1::2]\n",
    "    count, src, dst = int(count), int(src), int(dst)\n",
    "    while count != 0:\n",
    "        stacks[dst-1].append(stacks[src-1].pop())\n",
    "        count -=1\n"
   ]
  },
  {
   "cell_type": "code",
   "execution_count": 4,
   "metadata": {},
   "outputs": [
    {
     "name": "stdout",
     "output_type": "stream",
     "text": [
      "State of the stacks after all movements\n",
      "1 ['B']\n",
      "2 ['F', 'V', 'S', 'C', 'B', 'Z', 'Z', 'T', 'T', 'F', 'W']\n",
      "3 ['J', 'B', 'G', 'Z', 'N', 'G', 'V', 'N', 'H', 'H', 'C', 'H', 'W', 'N']\n",
      "4 ['C']\n",
      "5 ['Q']\n",
      "6 ['V', 'B', 'C', 'M', 'P', 'W', 'L', 'N', 'W', 'Q', 'V', 'R']\n",
      "7 ['W', 'P', 'R', 'M']\n",
      "8 ['P', 'Z', 'Z', 'D']\n",
      "9 ['D', 'G', 'Q', 'J', 'M', 'Q', 'R', 'B']\n",
      "----------------------------\n",
      "The result is BWNCQRMDB\n"
     ]
    }
   ],
   "source": [
    "print('State of the stacks after all movements')\n",
    "for idx1, stack in enumerate(stacks):\n",
    "    print(f'{idx1+1} {stack}')\n",
    "print('----------------------------')\n",
    "result = ''\n",
    "for i in range(num_stacks):\n",
    "    result += stacks[i][-1]\n",
    "# [result=stacks[i][-1] for i in range(num_stacks)]\n",
    "print(f'The result is {result}')\n"
   ]
  },
  {
   "cell_type": "markdown",
   "metadata": {},
   "source": [
    "## Puzzle 2"
   ]
  },
  {
   "cell_type": "code",
   "execution_count": 5,
   "metadata": {},
   "outputs": [
    {
     "name": "stdout",
     "output_type": "stream",
     "text": [
      "['B', 'Q', 'C']\n",
      "['R', 'Q', 'W', 'Z']\n",
      "['B', 'M', 'R', 'L', 'V']\n",
      "['C', 'Z', 'H', 'V', 'T', 'W']\n",
      "['D', 'Z', 'H', 'B', 'N', 'V', 'G']\n",
      "['H', 'N', 'P', 'C', 'J', 'F', 'V', 'Q']\n",
      "['D', 'G', 'T', 'R', 'W', 'Z', 'S']\n",
      "['C', 'G', 'M', 'N', 'B', 'W', 'Z', 'P']\n",
      "['N', 'J', 'B', 'M', 'W', 'Q', 'F', 'P']\n"
     ]
    }
   ],
   "source": [
    "# Reset the stacks\n",
    "stacks = [[] for _ in range(num_stacks)]\n",
    "for line in data[idx-2::-1]:\n",
    "    for index in range(1, num_stacks+1):\n",
    "        if line[(index-1)*4 + 1] != ' ':\n",
    "            stacks[index-1].append(line[(index-1)*4 + 1])\n",
    "  \n",
    "# Print the stacks\n",
    "for stack in stacks:\n",
    "    print(stack)"
   ]
  },
  {
   "cell_type": "code",
   "execution_count": 6,
   "metadata": {},
   "outputs": [],
   "source": [
    "# Move the crates at the same time\n",
    "for line in data[idx+1:]:\n",
    "    count, src, dst = line.split(' ')[1::2]\n",
    "    count, src, dst = int(count), int(src), int(dst)\n",
    "    stacks[dst-1].extend(stacks[src-1][-count:])\n",
    "    del stacks[src-1][-count:]\n",
    "    "
   ]
  },
  {
   "cell_type": "code",
   "execution_count": 7,
   "metadata": {},
   "outputs": [
    {
     "name": "stdout",
     "output_type": "stream",
     "text": [
      "State of the stacks after all movements\n",
      "1 ['N']\n",
      "2 ['V', 'C', 'F', 'V', 'V', 'W', 'H', 'P', 'B', 'R', 'H']\n",
      "3 ['M', 'W', 'J', 'N', 'P', 'B', 'B', 'G', 'D', 'Z', 'R', 'C', 'Z', 'W']\n",
      "4 ['Z']\n",
      "5 ['C']\n",
      "6 ['M', 'G', 'L', 'P', 'Q', 'Q', 'T', 'R', 'M', 'Z', 'T', 'B']\n",
      "7 ['W', 'W', 'G', 'N']\n",
      "8 ['C', 'J', 'S', 'B']\n",
      "9 ['N', 'H', 'V', 'Q', 'Q', 'D', 'Z', 'F']\n",
      "----------------------------\n",
      "The result is NHWZCBNBF\n"
     ]
    }
   ],
   "source": [
    "print('State of the stacks after all movements')\n",
    "for idx1, stack in enumerate(stacks):\n",
    "    print(f'{idx1+1} {stack}')\n",
    "print('----------------------------')\n",
    "result = ''\n",
    "for i in range(num_stacks):\n",
    "    result += stacks[i][-1]\n",
    "print(f'The result is {result}')"
   ]
  }
 ],
 "metadata": {
  "kernelspec": {
   "display_name": "venv",
   "language": "python",
   "name": "python3"
  },
  "language_info": {
   "codemirror_mode": {
    "name": "ipython",
    "version": 3
   },
   "file_extension": ".py",
   "mimetype": "text/x-python",
   "name": "python",
   "nbconvert_exporter": "python",
   "pygments_lexer": "ipython3",
   "version": "3.8.10"
  },
  "orig_nbformat": 4
 },
 "nbformat": 4,
 "nbformat_minor": 2
}
