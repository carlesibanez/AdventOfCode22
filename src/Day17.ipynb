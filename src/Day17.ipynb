{
 "cells": [
  {
   "cell_type": "markdown",
   "metadata": {},
   "source": [
    "# Day 17"
   ]
  },
  {
   "cell_type": "code",
   "execution_count": 69,
   "metadata": {},
   "outputs": [
    {
     "name": "stdout",
     "output_type": "stream",
     "text": [
      "The file contains 10091 movements.\n"
     ]
    }
   ],
   "source": [
    "with open('../inputs/adventofcode.com_2022_day_17_input.txt', 'r') as f:\n",
    "    data = f.read().splitlines()\n",
    "data = data[0]\n",
    "print(f'The file contains {len(data)} movements.')"
   ]
  },
  {
   "cell_type": "markdown",
   "metadata": {},
   "source": [
    "## Puzzle 1"
   ]
  },
  {
   "cell_type": "code",
   "execution_count": 70,
   "metadata": {},
   "outputs": [
    {
     "name": "stdout",
     "output_type": "stream",
     "text": [
      "After 2022 the tower is 3161 units high.\n"
     ]
    }
   ],
   "source": [
    "import numpy as np\n",
    "\n",
    "tunnel = np.zeros((1, 7), dtype=int)\n",
    "\n",
    "num_rocks = 2022\n",
    "\n",
    "move = 0\n",
    "\n",
    "rocks = {}\n",
    "\n",
    "rocks[0] = np.ones((1, 4), dtype=int)\n",
    "rocks[1] = np.array([[0,1,0], [1,1,1], [0,1,0]], dtype=int)\n",
    "rocks[2] = np.array([[0,0,1], [0,0,1], [1,1,1]], dtype=int)\n",
    "rocks[3] = np.ones((4, 1), dtype=int)\n",
    "rocks[4] = np.ones((2, 2), dtype=int)\n",
    "\n",
    "def movement_possible(tunnel, coords, rock_type):\n",
    "    # For each of the cells occupied by the rock, check if the tunnel is empty\n",
    "    for row in range(rocks[rock_type].shape[0]):\n",
    "        for col in range(rocks[rock_type].shape[1]):\n",
    "            if rocks[rock_type][row, col] == 1 and tunnel[coords[0]+row, coords[1]+col] == 1:\n",
    "                return False\n",
    "    return True\n",
    "        \n",
    "\n",
    "for rock in range(num_rocks):\n",
    "    rock_type = rock % 5\n",
    "    highest_rock = np.argmax(np.sum(tunnel, axis=1)!=0)\n",
    "\n",
    "    # If highest rock is 0, then the tunnel is empty\n",
    "    if highest_rock == 0:\n",
    "        highest_rock = 1\n",
    "    \n",
    "    # Top coordinate of the rock\n",
    "    top = highest_rock - 3 - rocks[rock_type].shape[0]\n",
    "\n",
    "    # If the rock is too high, add empty rows at the top\n",
    "    if top < 0:\n",
    "        tunnel = np.vstack((np.zeros((-top, tunnel.shape[1]), dtype=int), tunnel))\n",
    "        highest_rock += -top\n",
    "        coords = (0, 2)\n",
    "    else:\n",
    "        coords = (top, 2)\n",
    "\n",
    "    while True:\n",
    "        # Move left or right\n",
    "        if data[move % len(data)] == '>' and coords[1] + rocks[rock_type].shape[1] < tunnel.shape[1] and movement_possible(tunnel, (coords[0], coords[1]+1), rock_type):\n",
    "            coords = (coords[0], coords[1]+1)\n",
    "        elif data[move % len(data)] == '<' and coords[1] > 0 and movement_possible(tunnel, (coords[0], coords[1]-1), rock_type):\n",
    "            coords = (coords[0], coords[1]-1)\n",
    "        move += 1\n",
    "        \n",
    "        # Move down\n",
    "        if coords[0]+1 + rocks[rock_type].shape[0] <= tunnel.shape[0] and movement_possible(tunnel, (coords[0]+1, coords[1]), rock_type):\n",
    "            coords = (coords[0]+1, coords[1])\n",
    "        else:\n",
    "            break\n",
    "    # With the final coordinates, add the rock to the tunnel\n",
    "    tunnel[coords[0]:coords[0]+rocks[rock_type].shape[0], coords[1]:coords[1]+rocks[rock_type].shape[1]] += rocks[rock_type]\n",
    "    \n",
    "height = tunnel.shape[0] - np.argmax(np.sum(tunnel, axis=1)!=0)\n",
    "print(f'After {num_rocks} the tower is {height} units high.')"
   ]
  }
 ],
 "metadata": {
  "kernelspec": {
   "display_name": "venv",
   "language": "python",
   "name": "python3"
  },
  "language_info": {
   "codemirror_mode": {
    "name": "ipython",
    "version": 3
   },
   "file_extension": ".py",
   "mimetype": "text/x-python",
   "name": "python",
   "nbconvert_exporter": "python",
   "pygments_lexer": "ipython3",
   "version": "3.8.10"
  }
 },
 "nbformat": 4,
 "nbformat_minor": 2
}
