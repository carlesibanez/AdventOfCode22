{
 "cells": [
  {
   "cell_type": "markdown",
   "metadata": {},
   "source": [
    "# Day 17"
   ]
  },
  {
   "cell_type": "code",
   "execution_count": 1,
   "metadata": {},
   "outputs": [
    {
     "name": "stdout",
     "output_type": "stream",
     "text": [
      "The file contains 10091 movements.\n"
     ]
    }
   ],
   "source": [
    "with open('../inputs/adventofcode.com_2022_day_17_input.txt', 'r') as f:\n",
    "    data = f.read().splitlines()\n",
    "data = data[0]\n",
    "print(f'The file contains {len(data)} movements.')"
   ]
  },
  {
   "cell_type": "markdown",
   "metadata": {},
   "source": [
    "## Puzzle 1"
   ]
  },
  {
   "cell_type": "code",
   "execution_count": 2,
   "metadata": {},
   "outputs": [
    {
     "name": "stdout",
     "output_type": "stream",
     "text": [
      "After 2022 the tower is 3161 units high.\n"
     ]
    }
   ],
   "source": [
    "import numpy as np\n",
    "\n",
    "tunnel = np.zeros((1, 7), dtype=int)\n",
    "\n",
    "num_rocks = 2022\n",
    "\n",
    "move = 0\n",
    "\n",
    "rocks = {}\n",
    "\n",
    "rocks[0] = np.ones((1, 4), dtype=int)\n",
    "rocks[1] = np.array([[0,1,0], [1,1,1], [0,1,0]], dtype=int)\n",
    "rocks[2] = np.array([[0,0,1], [0,0,1], [1,1,1]], dtype=int)\n",
    "rocks[3] = np.ones((4, 1), dtype=int)\n",
    "rocks[4] = np.ones((2, 2), dtype=int)\n",
    "\n",
    "def movement_possible(tunnel, coords, rock_type):\n",
    "    # For each of the cells occupied by the rock, check if the tunnel is empty\n",
    "    for row in range(rocks[rock_type].shape[0]):\n",
    "        for col in range(rocks[rock_type].shape[1]):\n",
    "            if rocks[rock_type][row, col] == 1 and tunnel[coords[0]+row, coords[1]+col] == 1:\n",
    "                return False\n",
    "    return True\n",
    "        \n",
    "\n",
    "for rock in range(num_rocks):\n",
    "    rock_type = rock % 5\n",
    "    highest_rock = np.argmax(np.sum(tunnel, axis=1)!=0)\n",
    "\n",
    "    # If highest rock is 0, then the tunnel is empty\n",
    "    if highest_rock == 0:\n",
    "        highest_rock = 1\n",
    "    \n",
    "    # Top coordinate of the rock\n",
    "    top = highest_rock - 3 - rocks[rock_type].shape[0]\n",
    "\n",
    "    # If the rock is too high, add empty rows at the top\n",
    "    if top < 0:\n",
    "        tunnel = np.vstack((np.zeros((-top, tunnel.shape[1]), dtype=int), tunnel))\n",
    "        highest_rock += -top\n",
    "        coords = (0, 2)\n",
    "    else:\n",
    "        coords = (top, 2)\n",
    "\n",
    "    while True:\n",
    "        # Move left or right\n",
    "        if data[move % len(data)] == '>' and coords[1] + rocks[rock_type].shape[1] < tunnel.shape[1] and movement_possible(tunnel, (coords[0], coords[1]+1), rock_type):\n",
    "            coords = (coords[0], coords[1]+1)\n",
    "        elif data[move % len(data)] == '<' and coords[1] > 0 and movement_possible(tunnel, (coords[0], coords[1]-1), rock_type):\n",
    "            coords = (coords[0], coords[1]-1)\n",
    "        move += 1\n",
    "        \n",
    "        # Move down\n",
    "        if coords[0]+1 + rocks[rock_type].shape[0] <= tunnel.shape[0] and movement_possible(tunnel, (coords[0]+1, coords[1]), rock_type):\n",
    "            coords = (coords[0]+1, coords[1])\n",
    "        else:\n",
    "            break\n",
    "    # With the final coordinates, add the rock to the tunnel\n",
    "    tunnel[coords[0]:coords[0]+rocks[rock_type].shape[0], coords[1]:coords[1]+rocks[rock_type].shape[1]] += rocks[rock_type]\n",
    "    \n",
    "height = tunnel.shape[0] - np.argmax(np.sum(tunnel, axis=1)!=0)\n",
    "print(f'After {num_rocks} the tower is {height} units high.')"
   ]
  },
  {
   "cell_type": "markdown",
   "metadata": {},
   "source": [
    "## Puzzle 2"
   ]
  },
  {
   "cell_type": "code",
   "execution_count": 3,
   "metadata": {},
   "outputs": [
    {
     "name": "stdout",
     "output_type": "stream",
     "text": [
      "found 3 times repetition between 3893-3894, 3895-3896, 3897-3898, a cycle adds 1 to the height.\n",
      "found 3 times repetition between 282-2026, 2027-3771, 3772-5516, a cycle adds 2747 to the height.\n",
      "found 3 times repetition between 282-3771, 3772-7261, 7262-10751, a cycle adds 5497 to the height.\n",
      "found 3 times repetition between 282-5516, 5517-10751, 10752-15986, a cycle adds 8247 to the height.\n",
      "After 20000 the tower is 31505 units high.\n",
      "The maximum cycle is 5235 between rocks 282 and 5516.\n"
     ]
    }
   ],
   "source": [
    "import numpy as np\n",
    "\n",
    "tunnel = np.zeros((1, 7), dtype=int)\n",
    "\n",
    "num_rocks = 20000\n",
    "\n",
    "move = 0\n",
    "d_h = []\n",
    "max_cycle = 1\n",
    "cycle = (0,0)\n",
    "\n",
    "rocks = {}\n",
    "# rock_movements = {i: [] for i in range(5)}\n",
    "\n",
    "rocks[0] = np.ones((1, 4), dtype=int)\n",
    "rocks[1] = np.array([[0,1,0], [1,1,1], [0,1,0]], dtype=int)\n",
    "rocks[2] = np.array([[0,0,1], [0,0,1], [1,1,1]], dtype=int)\n",
    "rocks[3] = np.ones((4, 1), dtype=int)\n",
    "rocks[4] = np.ones((2, 2), dtype=int)\n",
    "\n",
    "def movement_possible(tunnel, coords, rock_type):\n",
    "    # For each of the cells occupied by the rock, check if the tunnel is empty\n",
    "    for row in range(rocks[rock_type].shape[0]):\n",
    "        for col in range(rocks[rock_type].shape[1]):\n",
    "            if rocks[rock_type][row, col] == 1 and tunnel[coords[0]+row, coords[1]+col] == 1:\n",
    "                return False\n",
    "    return True\n",
    "\n",
    "\n",
    "old_height = 0\n",
    "  \n",
    "\n",
    "for rock in range(num_rocks):\n",
    "    rock_type = rock % 5\n",
    "    highest_rock = np.argmax(np.sum(tunnel, axis=1)!=0)\n",
    "\n",
    "    # If highest rock is 0, then the tunnel is empty\n",
    "    if highest_rock == 0:\n",
    "        highest_rock = 1\n",
    "    \n",
    "    # Top coordinate of the rock\n",
    "    top = highest_rock - 3 - rocks[rock_type].shape[0]\n",
    "\n",
    "    # If the rock is too high, add empty rows at the top\n",
    "    if top < 0:\n",
    "        tunnel = np.vstack((np.zeros((-top, tunnel.shape[1]), dtype=int), tunnel))\n",
    "        highest_rock += -top\n",
    "        coords = (0, 2)\n",
    "    else:\n",
    "        coords = (top, 2)\n",
    "\n",
    "    # rock_trajectory = ''\n",
    "    while True:\n",
    "        # Move left or right\n",
    "        if data[move % len(data)] == '>' and coords[1] + rocks[rock_type].shape[1] < tunnel.shape[1] and movement_possible(tunnel, (coords[0], coords[1]+1), rock_type):\n",
    "            coords = (coords[0], coords[1]+1)\n",
    "        elif data[move % len(data)] == '<' and coords[1] > 0 and movement_possible(tunnel, (coords[0], coords[1]-1), rock_type):\n",
    "            coords = (coords[0], coords[1]-1)\n",
    "        move += 1\n",
    "        \n",
    "        # Move down\n",
    "        if coords[0]+1 + rocks[rock_type].shape[0] <= tunnel.shape[0] and movement_possible(tunnel, (coords[0]+1, coords[1]), rock_type):\n",
    "            coords = (coords[0]+1, coords[1])\n",
    "        else:\n",
    "            break\n",
    "    # With the final coordinates, add the rock to the tunnel\n",
    "    tunnel[coords[0]:coords[0]+rocks[rock_type].shape[0], coords[1]:coords[1]+rocks[rock_type].shape[1]] += rocks[rock_type]\n",
    "\n",
    "    new_height = tunnel.shape[0] - np.argmax(np.sum(tunnel, axis=1)!=0)\n",
    "    delta_h = new_height - old_height\n",
    "    d_h.append(delta_h)\n",
    "\n",
    "    old_height = new_height\n",
    "    if move > 2*len(data):\n",
    "        for i in range(max_cycle, rock // 3):\n",
    "            if d_h[rock-i] == d_h[rock] and d_h[rock-i+1:rock] == d_h[rock-2*i+1:rock-i] and d_h[rock-i*2] == d_h[rock] and d_h[rock-i+1:rock] == d_h[rock-i*3+1:rock-i*2]:\n",
    "                if i > max_cycle:\n",
    "                    max_cycle = i\n",
    "                    cycle = (rock-i*3+1, rock-i*2)\n",
    "                    print(f'found 3 times repetition between {rock-3*i+1}-{rock-2*i}, {rock-2*i+1}-{rock-i}, {rock-i+1}-{rock}, a cycle adds {sum(d_h[rock-i+1:rock])} to the height.')\n",
    "\n",
    "    \n",
    "height = tunnel.shape[0] - np.argmax(np.sum(tunnel, axis=1)!=0)\n",
    "print(f'After {num_rocks} the tower is {height} units high.')\n",
    "print(f'The maximum cycle is {max_cycle} between rocks {cycle[0]} and {cycle[1]}.')"
   ]
  },
  {
   "cell_type": "code",
   "execution_count": 4,
   "metadata": {},
   "outputs": [
    {
     "name": "stdout",
     "output_type": "stream",
     "text": [
      "After 191021967 cycles (each containing 5235 rocks and adding 8250 to the height) there are still 2473 rocks.\n"
     ]
    }
   ],
   "source": [
    "num_rocks = 1000000000000\n",
    "\n",
    "start_cycle = cycle[0]\n",
    "end_cycle = cycle[1]\n",
    "init_height = sum(d_h[:start_cycle])\n",
    "\n",
    "# Metric per cycle\n",
    "cycle_height = sum(d_h[start_cycle:end_cycle+1])\n",
    "cycle_delta = end_cycle - start_cycle +1\n",
    "\n",
    "# Number of cycles\n",
    "num_cycles = (num_rocks-start_cycle) // (cycle_delta)\n",
    "remaining_rocks = num_rocks - start_cycle - num_cycles*(cycle_delta)\n",
    "print(f'After {num_cycles} cycles (each containing {cycle_delta} rocks and adding {cycle_height} to the height) there are still {remaining_rocks} rocks.')"
   ]
  },
  {
   "cell_type": "code",
   "execution_count": 5,
   "metadata": {},
   "outputs": [
    {
     "name": "stdout",
     "output_type": "stream",
     "text": [
      "Height before cycles: 422\n",
      "Height added by all cycles: 1575931227750\n",
      "Height added by extra rocks: 3904\n",
      "The final height is 1575931232076.\n"
     ]
    }
   ],
   "source": [
    "final_height = init_height + num_cycles*cycle_height + sum(d_h[start_cycle:start_cycle+remaining_rocks])\n",
    "print(f'Height before cycles: {init_height}')\n",
    "print(f'Height added by all cycles: {num_cycles*cycle_height}')\n",
    "print(f'Height added by extra rocks: {sum(d_h[start_cycle:start_cycle+remaining_rocks])}')\n",
    "print(f'The final height is {final_height}.')"
   ]
  }
 ],
 "metadata": {
  "kernelspec": {
   "display_name": "venv",
   "language": "python",
   "name": "python3"
  },
  "language_info": {
   "codemirror_mode": {
    "name": "ipython",
    "version": 3
   },
   "file_extension": ".py",
   "mimetype": "text/x-python",
   "name": "python",
   "nbconvert_exporter": "python",
   "pygments_lexer": "ipython3",
   "version": "3.8.10"
  }
 },
 "nbformat": 4,
 "nbformat_minor": 2
}
