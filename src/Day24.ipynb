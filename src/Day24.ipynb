{
 "cells": [
  {
   "cell_type": "markdown",
   "metadata": {},
   "source": [
    "# Day 24"
   ]
  },
  {
   "cell_type": "code",
   "execution_count": 1,
   "metadata": {},
   "outputs": [
    {
     "name": "stdout",
     "output_type": "stream",
     "text": [
      "The board is 25 (rows) x 122 (cols).\n"
     ]
    }
   ],
   "source": [
    "with open('../inputs/adventofcode.com_2022_day_24_input.txt', 'r') as f:\n",
    "    data = f.read().splitlines()\n",
    "\n",
    "print(f'The board is {len(data)-2} (rows) x {len(data[0])} (cols).')"
   ]
  },
  {
   "cell_type": "code",
   "execution_count": 2,
   "metadata": {},
   "outputs": [],
   "source": [
    "# Imports\n",
    "import numpy as np\n",
    "from collections import deque"
   ]
  },
  {
   "cell_type": "markdown",
   "metadata": {},
   "source": [
    "## Puzzle 1"
   ]
  },
  {
   "cell_type": "code",
   "execution_count": 3,
   "metadata": {},
   "outputs": [],
   "source": [
    "# Create 4 boards, one for each direction of the blizzard\n",
    "blizzard_l = np.zeros((len(data)-2, len(data[0])-2), dtype=int)\n",
    "blizzard_r = np.zeros((len(data)-2, len(data[0])-2), dtype=int)\n",
    "blizzard_u = np.zeros((len(data)-2, len(data[0])-2), dtype=int)\n",
    "blizzard_d = np.zeros((len(data)-2, len(data[0])-2), dtype=int)\n",
    "\n",
    "for i, row in enumerate(data[1:-1]):\n",
    "    for j, col in enumerate(row[1:-1]):\n",
    "        # Depending on the direction of the blizzard, add it to one of the 4 boards\n",
    "        if col == \"<\":\n",
    "            blizzard_l[i,j] = 1\n",
    "        elif col == \">\":\n",
    "            blizzard_r[i,j] = 1\n",
    "        elif col == \"^\":\n",
    "            blizzard_u[i,j] = 1\n",
    "        elif col == \"v\":\n",
    "            blizzard_d[i,j] = 1\n",
    "\n",
    "# Helper function to simulate the movement of the blizzards\n",
    "def advance_n_steps(bl_l, bl_r, bl_u, bl_d, steps=1):\n",
    "    \n",
    "    # Move horizontal blizzards\n",
    "    bl_l = np.roll(bl_l, -steps, axis=1)\n",
    "    bl_r = np.roll(bl_r, steps, axis=1)\n",
    "\n",
    "    # Move vertical blizzards\n",
    "    bl_u = np.roll(bl_u, -steps, axis=0)\n",
    "    bl_d = np.roll(bl_d, steps, axis=0)\n",
    "\n",
    "    return bl_l, bl_r, bl_u, bl_d\n",
    "\n",
    "# Generate a big number of boards in advanced, so we can look at them later\n",
    "boards = {}\n",
    "for i in range(1, 10000):\n",
    "    blizzard_l, blizzard_r, blizzard_u, blizzard_d = advance_n_steps(blizzard_l, blizzard_r, blizzard_u, blizzard_d)\n",
    "    board = blizzard_l + blizzard_r + blizzard_u + blizzard_d\n",
    "    boards[i] = board"
   ]
  },
  {
   "cell_type": "code",
   "execution_count": 4,
   "metadata": {},
   "outputs": [],
   "source": [
    "# This class represents a node of the graph\n",
    "# A node is a position in the board, with a minute that it is reached\n",
    "class Node():\n",
    "    def __init__(self, row, col, minute):\n",
    "        self.row = row\n",
    "        self.col = col\n",
    "        self.minute = minute\n",
    "\n",
    "    def __str__(self):\n",
    "        return f'({self.row}, {self.col}, {self.minute})'\n",
    "\n",
    "    def __repr__(self):\n",
    "        return f'({self.row}, {self.col}, {self.minute})'\n",
    "\n",
    "    def __eq__(self, other):\n",
    "        return self.row == other.row and self.col == other.col and self.minute >= other.minute"
   ]
  },
  {
   "cell_type": "code",
   "execution_count": 5,
   "metadata": {},
   "outputs": [
    {
     "name": "stdout",
     "output_type": "stream",
     "text": [
      "The exit is reached after 295 minutes.\n"
     ]
    }
   ],
   "source": [
    "board = boards[1]\n",
    "\n",
    "height = len(board)\n",
    "width = len(board[0])\n",
    "\n",
    "# This list contains for each of the tiles, a list of minutes when it was visited, initialized to -1 (never visited)\n",
    "visited = [[[-1] for _ in range(width)] for _ in range(height)]\n",
    "\n",
    "# Queue for breath-first search\n",
    "queue = deque()\n",
    "queue.append(Node(0,0,0))\n",
    "\n",
    "while True:\n",
    "    if i % 100000 == 0:\n",
    "        print(f'Iteration {i}. The queue has {len(queue)} elements.')\n",
    "\n",
    "    n = queue.popleft()\n",
    "\n",
    "    if n.minute in visited[n.row][n.col]:\n",
    "        continue\n",
    "    if n.row == height-1 and n.col == width-1:\n",
    "        print(f'The exit is reached after {n.minute + 2} minutes.') # +2 because we start at minute 0, and end one minute after the exit is reached\n",
    "        break\n",
    "    \n",
    "    board = boards[n.minute+2]\n",
    "\n",
    "    if n.row+1 < height and board[n.row+1, n.col] == 0:\n",
    "        # We can move down\n",
    "        new_node = Node(n.row+1, n.col, n.minute+1)\n",
    "        if n.minute+1 not in visited[n.row+1][n.col]:\n",
    "            queue.append(new_node)\n",
    "    if n.row-1 >= 0 and board[n.row-1, n.col] == 0:\n",
    "        # We can move up\n",
    "        new_node = Node(n.row-1, n.col, n.minute+1)\n",
    "        if n.minute+1 not in visited[n.row-1][n.col]:\n",
    "            queue.append(new_node)\n",
    "    if n.col+1 < width and board[n.row, n.col+1] == 0:\n",
    "        # We can move right\n",
    "        new_node = Node(n.row, n.col+1, n.minute+1)\n",
    "        if n.minute+1 not in visited[n.row][n.col+1]:\n",
    "            queue.append(new_node)\n",
    "    if n.col-1 >= 0 and board[n.row, n.col-1] == 0:\n",
    "        # We can move left\n",
    "        new_node = Node(n.row, n.col-1, n.minute+1)\n",
    "        if n.minute+1 not in visited[n.row][n.col-1]:\n",
    "            queue.append(new_node)\n",
    "    \n",
    "    # Wait in place\n",
    "    new_node = Node(n.row, n.col, n.minute+1)\n",
    "    if board[n.row, n.col] == 0: # and new_node not in queue:\n",
    "        queue.append(new_node)\n",
    "    visited[n.row][n.col].append(n.minute)\n",
    "\n"
   ]
  },
  {
   "cell_type": "code",
   "execution_count": 6,
   "metadata": {},
   "outputs": [],
   "source": [
    "# Helper finction to draw the board given the 4 blizzard boards\n",
    "def draw_board(bl_l, bl_r, bl_u, bl_d):\n",
    "    for i in range(len(bl_l)):\n",
    "        for j in range(len(bl_l[0])):\n",
    "            if bl_l[i,j] == 1:\n",
    "                print(\"<\", end=\"\")\n",
    "            elif bl_r[i,j] == 1:\n",
    "                print(\">\", end=\"\")\n",
    "            elif bl_u[i,j] == 1:\n",
    "                print(\"^\", end=\"\")\n",
    "            elif bl_d[i,j] == 1:\n",
    "                print(\"v\", end=\"\")\n",
    "            else:\n",
    "                print(\".\", end=\"\")\n",
    "        print(\"\")"
   ]
  },
  {
   "cell_type": "markdown",
   "metadata": {},
   "source": [
    "## Puzzle 2"
   ]
  },
  {
   "cell_type": "code",
   "execution_count": 7,
   "metadata": {},
   "outputs": [
    {
     "name": "stdout",
     "output_type": "stream",
     "text": [
      "The exit is reached after 295 minutes.\n",
      "The entrance is reached after 556 minutes.\n",
      "The exit is reached after 851 minutes.\n"
     ]
    }
   ],
   "source": [
    "board = boards[1]\n",
    "\n",
    "height = len(board)\n",
    "width = len(board[0])\n",
    "\n",
    "# This list contains for each of the tiles, a list of minutes when it was visited, initialized to -1 (never visited)\n",
    "visited = [[[-1] for _ in range(width)] for _ in range(height)]\n",
    "\n",
    "# Queue for breath-first search\n",
    "queue = deque()\n",
    "queue.append(Node(0,0,0))\n",
    "\n",
    "# Variable to keep track of when we reacht eh exit or the entrance\n",
    "# set to 1 when reaching the exit, then to 2 when reaching the entrance\n",
    "goal = 0\n",
    "\n",
    "while True:\n",
    "\n",
    "    n = queue.popleft()\n",
    "\n",
    "    if (goal == 0 or goal == 2) and n.row == height and n.col == width-1:\n",
    "        print(f'The exit is reached after {n.minute + 1} minutes.')\n",
    "        # Reset the queue\n",
    "        queue = deque()\n",
    "        n = Node(n.row, n.col, n.minute)\n",
    "        visited = [[[-1] for _ in range(width)] for _ in range(height)]\n",
    "        # If it is the second time we reach the exit, end\n",
    "        if goal == 2:\n",
    "            break\n",
    "        goal = 1\n",
    "\n",
    "    if n.row == -1 and n.col == 0 and goal == 1:\n",
    "        print(f'The entrance is reached after {n.minute + 1} minutes.')\n",
    "        # Reset the queue\n",
    "        queue = deque()\n",
    "        n = Node(n.row, n.col, n.minute)\n",
    "        visited = [[[-1] for _ in range(width)] for _ in range(height)]\n",
    "        goal = 2\n",
    "    \n",
    "    if 0 <= n.row < height and 0 <= n.col < width and n.minute in visited[n.row][n.col]:\n",
    "        continue\n",
    "    \n",
    "    board = boards[n.minute+2]\n",
    "\n",
    "    if (n.col == width-1 and n.row+1 == height) or (n.row+1 < height and board[n.row+1, n.col] == 0):\n",
    "        # We can move down\n",
    "        new_node = Node(n.row+1, n.col, n.minute+1)\n",
    "        if (n.col == width-1 and n.row+1 == height) or (n.minute+1 not in visited[n.row+1][n.col]):\n",
    "            queue.append(new_node)\n",
    "    if (n.col == 0 and n.row-1 == -1) or (n.row-1 >= 0 and board[n.row-1, n.col] == 0):\n",
    "        # We can move up\n",
    "        new_node = Node(n.row-1, n.col, n.minute+1)\n",
    "        if (n.col == 0 and n.row-1 == -1) or (n.minute+1 not in visited[n.row-1][n.col]):\n",
    "            queue.append(new_node)\n",
    "    if n.col+1 < width and 0 <= n.row < height and board[n.row, n.col+1] == 0:\n",
    "        # We can move right\n",
    "        new_node = Node(n.row, n.col+1, n.minute+1)\n",
    "        if n.minute+1 not in visited[n.row][n.col+1]:\n",
    "            queue.append(new_node)\n",
    "    if n.col-1 >= 0 and 0 <= n.row < height and board[n.row, n.col-1] == 0:\n",
    "        # We can move left\n",
    "        new_node = Node(n.row, n.col-1, n.minute+1)\n",
    "        if n.minute+1 not in visited[n.row][n.col-1]:\n",
    "            queue.append(new_node)\n",
    "    \n",
    "    # Wait in place\n",
    "    new_node = Node(n.row, n.col, n.minute+1)\n",
    "    if (n.row == -1 and n.col == 0) or (n.row == height and n.col == width-1) or board[n.row, n.col] == 0:\n",
    "        queue.append(new_node)\n",
    "    if 0 <= n.row < height and 0 <= n.col < width:\n",
    "        visited[n.row][n.col].append(n.minute)\n"
   ]
  }
 ],
 "metadata": {
  "kernelspec": {
   "display_name": "venv",
   "language": "python",
   "name": "python3"
  },
  "language_info": {
   "codemirror_mode": {
    "name": "ipython",
    "version": 3
   },
   "file_extension": ".py",
   "mimetype": "text/x-python",
   "name": "python",
   "nbconvert_exporter": "python",
   "pygments_lexer": "ipython3",
   "version": "3.8.10"
  }
 },
 "nbformat": 4,
 "nbformat_minor": 2
}
