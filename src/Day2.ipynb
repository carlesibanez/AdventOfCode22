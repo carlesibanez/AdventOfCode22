{
 "cells": [
  {
   "cell_type": "markdown",
   "metadata": {},
   "source": [
    "# Day 2"
   ]
  },
  {
   "cell_type": "markdown",
   "metadata": {},
   "source": [
    "## Puzzle 1"
   ]
  },
  {
   "cell_type": "code",
   "execution_count": 3,
   "metadata": {},
   "outputs": [
    {
     "name": "stdout",
     "output_type": "stream",
     "text": [
      "A total of 2500 games were played\n"
     ]
    }
   ],
   "source": [
    "user_input = input(\"Enter the input: \")\n",
    "\n",
    "# The text is splitted on blank spaces as the newline is not conserved\n",
    "opponent = user_input.split(\" \")[::2]\n",
    "you = user_input.split(\" \")[1::2]\n",
    "assert len(opponent) == len(you), \"The number of opponents and you is not the same\"\n",
    "print(f'A total of {len(you)} games were played')\n"
   ]
  },
  {
   "cell_type": "code",
   "execution_count": 4,
   "metadata": {},
   "outputs": [
    {
     "name": "stdout",
     "output_type": "stream",
     "text": [
      "Your total score is 13924\n"
     ]
    }
   ],
   "source": [
    "total_score = 0\n",
    "for a, b in zip(opponent, you):\n",
    "    # If the opponent plays rock\n",
    "    if a == 'A':\n",
    "        if b == 'X':    # If you play rock => draw\n",
    "            score = 1 + 3 \n",
    "        elif b == 'Y':  # If you play paper => you win\n",
    "            score = 2 + 6\n",
    "        elif b == 'Z':  # If you play scissors => you lose\n",
    "            score = 3 + 0\n",
    "            \n",
    "    # If the opponent plays paper\n",
    "    elif a == 'B':\n",
    "        if b == 'X':    # If you play rock => lose\n",
    "            score = 1 + 0 \n",
    "        elif b == 'Y':  # If you play paper => draw\n",
    "            score = 2 + 3\n",
    "        elif b == 'Z':  # If you play scissors => you win\n",
    "            score = 3 + 6\n",
    "\n",
    "    # If the opponent plays scissors\n",
    "    elif a == 'C':\n",
    "        if b == 'X':    # If you play rock => win\n",
    "            score = 1 + 6\n",
    "        elif b == 'Y':  # If you play paper => you lose\n",
    "            score = 2 + 0\n",
    "        elif b == 'Z':  # If you play scissors => draw\n",
    "            score = 3 + 3\n",
    "    total_score += score\n",
    "\n",
    "print(f'Your total score is {total_score}')"
   ]
  },
  {
   "cell_type": "markdown",
   "metadata": {},
   "source": [
    "## Puzzle 2"
   ]
  },
  {
   "cell_type": "code",
   "execution_count": 5,
   "metadata": {},
   "outputs": [
    {
     "name": "stdout",
     "output_type": "stream",
     "text": [
      "Your total score is 13448\n"
     ]
    }
   ],
   "source": [
    "total_score = 0\n",
    "for a, b in zip(opponent, you):\n",
    "    # If the opponent plays rock\n",
    "    if a == 'A':\n",
    "        if b == 'X':    # Lose => scissors\n",
    "            score = 0 + 3 \n",
    "        elif b == 'Y':  # Draw => rock\n",
    "            score = 3 + 1\n",
    "        elif b == 'Z':  # Win => paper\n",
    "            score = 6 + 2\n",
    "    # If the opponent plays paper\n",
    "    elif a == 'B':\n",
    "        if b == 'X':    # Lose => rock\n",
    "            score = 0 + 1 \n",
    "        elif b == 'Y':  # Draw => paper\n",
    "            score = 3 + 2\n",
    "        elif b == 'Z':  # Win => scissors\n",
    "            score = 6 + 3\n",
    "\n",
    "    # If the opponent plays scissors\n",
    "    elif a == 'C':\n",
    "        if b == 'X':    # Lose => paper\n",
    "            score = 0 + 2 \n",
    "        elif b == 'Y':  # Draw => scissors\n",
    "            score = 3 + 3\n",
    "        elif b == 'Z':  # Win => rock\n",
    "            score = 6 + 1\n",
    "    total_score += score\n",
    "\n",
    "print(f'Your total score is {total_score}')"
   ]
  }
 ],
 "metadata": {
  "kernelspec": {
   "display_name": "venv",
   "language": "python",
   "name": "python3"
  },
  "language_info": {
   "codemirror_mode": {
    "name": "ipython",
    "version": 3
   },
   "file_extension": ".py",
   "mimetype": "text/x-python",
   "name": "python",
   "nbconvert_exporter": "python",
   "pygments_lexer": "ipython3",
   "version": "3.8.10"
  },
  "orig_nbformat": 4
 },
 "nbformat": 4,
 "nbformat_minor": 2
}
