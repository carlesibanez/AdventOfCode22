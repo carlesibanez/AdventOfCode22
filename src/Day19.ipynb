{
 "cells": [
  {
   "cell_type": "markdown",
   "metadata": {},
   "source": [
    "# Day 19"
   ]
  },
  {
   "cell_type": "code",
   "execution_count": 1,
   "metadata": {},
   "outputs": [
    {
     "name": "stdout",
     "output_type": "stream",
     "text": [
      "The file contains 30 Blueprints.\n"
     ]
    }
   ],
   "source": [
    "with open('../inputs/adventofcode.com_2022_day_19_input.txt', 'r') as f:\n",
    "    data = f.read().splitlines()\n",
    "\n",
    "print(f'The file contains {len(data)} Blueprints.')"
   ]
  },
  {
   "cell_type": "code",
   "execution_count": 2,
   "metadata": {},
   "outputs": [],
   "source": [
    "import numpy as np\n",
    "\n",
    "class Node():\n",
    "    def __init__(self, minute, ore_robots, clay_robots=0, obsidian_robots=0, geode_robots=0, \n",
    "                 ore_units=0, clay_units=0, obsidian_units=0, geode_units=0, robot_cost={}, new_robot=None):\n",
    "        self.minute = minute\n",
    "        \n",
    "        self.ore_robots = ore_robots\n",
    "        self.clay_robots = clay_robots\n",
    "        self.obsidian_robots = obsidian_robots\n",
    "        self.geode_robots = geode_robots\n",
    "\n",
    "        # Mining \n",
    "        # Every new minute we have the previous number of units plus one for each robot that is mining.\n",
    "        self.ore_units = ore_units\n",
    "        self.clay_units = clay_units\n",
    "        self.obsidian_units = obsidian_units\n",
    "        self.geode_units = geode_units \n",
    "\n",
    "        self.robot_cost = robot_cost\n",
    "        \n",
    "        if new_robot == 'ore':\n",
    "            self.ore_robots += 1\n",
    "        elif new_robot == 'clay':\n",
    "            self.clay_robots += 1\n",
    "        elif new_robot == 'obsidian':\n",
    "            self.obsidian_robots += 1\n",
    "        elif new_robot == 'geode':\n",
    "            self.geode_robots += 1\n",
    "\n",
    "\n",
    "    def __repr__(self):\n",
    "        return f'At minute {self.minute} we have {self.ore_units} ore, {self.clay_units} clay, {self.obsidian_units} obsidian and {self.geode_units} geodes. Robots: {self.ore_robots} ore, {self.clay_robots} clay, {self.obsidian_robots} obsidian, {self.geode_robots} geode.'\n",
    "\n",
    "    \n",
    "    def build_robot(self, robot_type):\n",
    "        # Compute minutes needed to have enough ore to build a new clay robot.\n",
    "        if robot_type == 'ore':\n",
    "            needed_minutes = max(1, np.ceil((self.robot_cost[robot_type]['ore'] - self.ore_units) / self.ore_robots)+1)\n",
    "        elif robot_type == 'clay':\n",
    "            needed_minutes = max(1, np.ceil((self.robot_cost[robot_type]['ore'] - self.ore_units) / self.ore_robots)+1)\n",
    "        elif robot_type == 'obsidian':\n",
    "            needed_minutes_ore =        max(1, np.ceil((self.robot_cost[robot_type]['ore'] - self.ore_units) / self.ore_robots)+1)\n",
    "            needed_minutes_clay =       max(1, np.ceil((self.robot_cost[robot_type]['clay'] - self.clay_units) / self.clay_robots)+1)\n",
    "            needed_minutes = max(needed_minutes_ore, needed_minutes_clay)\n",
    "        elif robot_type == 'geode':\n",
    "            needed_minutes_ore =        max(1, np.ceil((self.robot_cost[robot_type]['ore'] - self.ore_units) / self.ore_robots)+1)\n",
    "            needed_minutes_obsidian =   max(1, np.ceil((self.robot_cost[robot_type]['obsidian'] - self.obsidian_units) / self.obsidian_robots)+1)\n",
    "            needed_minutes = max(needed_minutes_ore, needed_minutes_obsidian)\n",
    "        return __class__(self.minute + needed_minutes, self.ore_robots, self.clay_robots, self.obsidian_robots, self.geode_robots,\n",
    "                        self.ore_units + needed_minutes*self.ore_robots - self.robot_cost[robot_type]['ore'], \n",
    "                        self.clay_units + needed_minutes*self.clay_robots - self.robot_cost[robot_type]['clay'], \n",
    "                        self.obsidian_units + needed_minutes*self.obsidian_robots - self.robot_cost[robot_type]['obsidian'], \n",
    "                        self.geode_units + needed_minutes*self.geode_robots, \n",
    "                        robot_cost=self.robot_cost, new_robot=robot_type\n",
    "                        )\n",
    "\n",
    "\n",
    "    def next_steps(self):\n",
    "        # To build ore and clay robots we need ore (that is produced by ore robots)\n",
    "        if self.ore_robots:\n",
    "            if self.ore_robots < self.robot_cost['max']['ore'] and \\\n",
    "                self.ore_units + (max_time -1 - self.minute) * (self.ore_robots) < self.robot_cost['max']['ore'] * (max_time -1 - self.minute):\n",
    "                yield self.build_robot('ore')\n",
    "            if self.clay_robots < self.robot_cost['max']['clay'] and \\\n",
    "                self.clay_units + (max_time -1 - self.minute) * (self.clay_robots) < self.robot_cost['max']['clay'] * (max_time -1 - self.minute):\n",
    "                yield self.build_robot('clay')\n",
    "\n",
    "        # To build obsidian robots we need ore and clay.\n",
    "        if self.ore_robots and self.clay_robots:\n",
    "            if self.obsidian_robots < self.robot_cost['max']['obsidian'] and \\\n",
    "                self.obsidian_units + (max_time -1 - self.minute) * (self.obsidian_robots) < self.robot_cost['max']['obsidian'] * (max_time -1 - self.minute):\n",
    "            # if self.obsidian_units + (max_time -1 - self.minute) * (self.obsidian_robots) < self.robot_cost['geode']['obsidian'] * (max_time -1 - self.minute):\n",
    "                # We can build an obsidian robot when we have enough ore and clay.\n",
    "                # yield self.build_obsidian_robot()\n",
    "                yield self.build_robot('obsidian')\n",
    "\n",
    "        # To build geode robots we need ore and obsidian.\n",
    "        if self.ore_robots and self.obsidian_robots:\n",
    "            # We can build a geode robot when we have enough ore and obsidian.\n",
    "            # yield self.build_geode_robot()\n",
    "            yield self.build_robot('geode')"
   ]
  },
  {
   "cell_type": "code",
   "execution_count": 3,
   "metadata": {},
   "outputs": [],
   "source": [
    "from collections import deque\n",
    "import re\n",
    "\n",
    "pattern = r'Blueprint \\d+: Each ore robot costs (\\d+) ore\\. Each clay robot costs (\\d+) ore\\. Each obsidian robot costs (\\d+) ore and (\\d+) clay\\. Each geode robot costs (\\d+) ore and (\\d+) obsidian\\.'\n",
    "\n",
    "def max_geodes(bp):\n",
    "\n",
    "    matches = re.search(pattern, bp).groups()\n",
    "\n",
    "    robot_cost = {'ore': {'ore': int(matches[0]), 'clay': 0, 'obsidian': 0},\n",
    "                  'clay': {'ore': int(matches[1]), 'clay': 0, 'obsidian': 0},\n",
    "                  'obsidian': {'ore': int(matches[2]), 'clay': int(matches[3]), 'obsidian': 0},\n",
    "                  'geode': {'ore': int(matches[4]), 'clay': 0, 'obsidian': int(matches[5])}\n",
    "                 }\n",
    "    \n",
    "    robot_cost['max'] = {material: max([robot_cost[m][material] for m in robot_cost.keys()]) for material in ['ore', 'clay', 'obsidian']}\n",
    "\n",
    "    queue = deque()\n",
    "    queue.append(Node(minute=1, ore_robots=1, clay_robots=0, obsidian_robots=0, geode_robots=0, \n",
    "                    ore_units=1, clay_units=0, obsidian_units=0, geode_units=0, robot_cost=robot_cost))\n",
    "\n",
    "    max_geodes = []\n",
    "    max_num_geodes = 0\n",
    "\n",
    "    while queue:\n",
    "        current_node = queue.popleft()\n",
    "\n",
    "        for n in current_node.next_steps():\n",
    "\n",
    "            if n.minute < max_time:\n",
    "                if n.geode_units + n.geode_robots * (max_time - n.minute) + sum([i for i in range(max_time - int(n.minute))]) <= max_num_geodes:\n",
    "                    continue \n",
    "                queue.append(n)\n",
    "                max_num_geodes = max(max_num_geodes, n.geode_units)\n",
    "\n",
    "            else:\n",
    "                num_geodes = current_node.geode_units + current_node.geode_robots * (max_time - current_node.minute)\n",
    "                max_geodes.append(num_geodes)\n",
    "                max_num_geodes = max(max_num_geodes, num_geodes)\n",
    "                \n",
    "    return max(max_geodes)\n",
    "\n"
   ]
  },
  {
   "cell_type": "markdown",
   "metadata": {},
   "source": [
    "## Puzzle 1"
   ]
  },
  {
   "cell_type": "code",
   "execution_count": 4,
   "metadata": {},
   "outputs": [
    {
     "name": "stdout",
     "output_type": "stream",
     "text": [
      "The quality level is 1115.\n"
     ]
    }
   ],
   "source": [
    "max_time = 24\n",
    "# Compute the quality level for each blueprint, and add them up.\n",
    "quality_level = 0\n",
    "for i, bp in enumerate(data):\n",
    "    quality_level += max_geodes(bp) * (i+1)\n",
    "\n",
    "print(f'The quality level is {quality_level:g}.')"
   ]
  },
  {
   "cell_type": "markdown",
   "metadata": {},
   "source": [
    "## Puzzle 2"
   ]
  },
  {
   "cell_type": "code",
   "execution_count": 5,
   "metadata": {},
   "outputs": [
    {
     "name": "stdout",
     "output_type": "stream",
     "text": [
      "best_level=[16.0, 54.0, 29.0]\n",
      "The answer is 25056.\n"
     ]
    }
   ],
   "source": [
    "max_time = 32\n",
    "\n",
    "best_level = []\n",
    "for i, bp in enumerate(data[:3]):\n",
    "    best_level.append(max_geodes(bp))\n",
    "\n",
    "print(f'{best_level=}')\n",
    "print(f'The answer is {np.product(best_level):g}.')"
   ]
  }
 ],
 "metadata": {
  "kernelspec": {
   "display_name": "venv",
   "language": "python",
   "name": "python3"
  },
  "language_info": {
   "codemirror_mode": {
    "name": "ipython",
    "version": 3
   },
   "file_extension": ".py",
   "mimetype": "text/x-python",
   "name": "python",
   "nbconvert_exporter": "python",
   "pygments_lexer": "ipython3",
   "version": "3.8.10"
  }
 },
 "nbformat": 4,
 "nbformat_minor": 2
}
