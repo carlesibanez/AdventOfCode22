{
 "cells": [
  {
   "cell_type": "markdown",
   "metadata": {},
   "source": [
    "# Day 15"
   ]
  },
  {
   "cell_type": "code",
   "execution_count": 13,
   "metadata": {},
   "outputs": [
    {
     "name": "stdout",
     "output_type": "stream",
     "text": [
      "The file contains 32 lines.\n"
     ]
    }
   ],
   "source": [
    "with open('../inputs/adventofcode.com_2022_day_15_input.txt', 'r') as f:\n",
    "    data = f.read().splitlines()\n",
    "\n",
    "print(f'The file contains {len(data)} lines.')"
   ]
  },
  {
   "cell_type": "markdown",
   "metadata": {},
   "source": [
    "## Puzzle 1"
   ]
  },
  {
   "cell_type": "code",
   "execution_count": 14,
   "metadata": {},
   "outputs": [
    {
     "name": "stdout",
     "output_type": "stream",
     "text": [
      "There are 9 beacons.\n"
     ]
    }
   ],
   "source": [
    "import numpy as np\n",
    "import re\n",
    "\n",
    "readings = []\n",
    "beacons = []\n",
    "\n",
    "pattern = r'x=(?P<x>(-)?\\d+), y=(?P<y>(-)?\\d+)'\n",
    "\n",
    "for line in data:\n",
    "    sensor, beacon = line.split(':')\n",
    "\n",
    "    # Extract coordinates for sensor and beacon\n",
    "    x_s, y_s = re.search(pattern, sensor).group('x','y')\n",
    "    x_s, y_s = int(x_s), int(y_s)\n",
    "    x_b, y_b = re.search(pattern, beacon).group('x','y')\n",
    "    x_b, y_b = int(x_b), int(y_b)\n",
    "\n",
    "    d = abs(x_b - x_s) + abs(y_b - y_s)\n",
    "\n",
    "    readings.append([(x_s, y_s), (x_b, y_b), d])\n",
    "    if (x_b, y_b) not in beacons:  beacons.append((x_b, y_b))\n",
    "\n",
    "\n",
    "print(f'There are {len(beacons)} beacons.')\n",
    "\n",
    "    "
   ]
  },
  {
   "cell_type": "code",
   "execution_count": 15,
   "metadata": {},
   "outputs": [
    {
     "name": "stdout",
     "output_type": "stream",
     "text": [
      "There are 4737443 positions where the beacon cannot be in row 2000000.\n"
     ]
    }
   ],
   "source": [
    "# Row we are searching for\n",
    "y = 2000000\n",
    "segments = []\n",
    "\n",
    "# For each sensor, calculate in which region of the current row it can detect a beacon\n",
    "for r in readings:\n",
    "    y_diff = abs(r[0][1] - y)\n",
    "    w = r[2] - y_diff\n",
    "    if w >= 0:\n",
    "        segments.append((r[0][0] - w, r[0][0] + w))\n",
    "\n",
    "# Sort the ranges so that the first one is the leftmost and so on\n",
    "segments = sorted(segments, key=lambda x: x[0])\n",
    "\n",
    "# Merge overlapping ranges\n",
    "new_segments = [segments[0]]\n",
    "for s1 in segments[1:]:\n",
    "    if s1[0] <= new_segments[-1][1]+1:\n",
    "        new_segments[-1] = (new_segments[-1][0], max(new_segments[-1][1], s1[1]))\n",
    "    else:\n",
    "        new_segments.append(s1)\n",
    "        break\n",
    "\n",
    "# Sum the ranges, and remove one if there's a beacon in it\n",
    "count = 0\n",
    "\n",
    "for s in new_segments:\n",
    "    count += s[1]-s[0] +1\n",
    "    for b in beacons:\n",
    "        if b[1] == y and b[0] in range(s[0], s[1]+1):\n",
    "            count -= 1\n",
    "\n",
    "print(f'There are {count} positions where the beacon cannot be in row {y}.')\n",
    "\n"
   ]
  },
  {
   "cell_type": "markdown",
   "metadata": {},
   "source": [
    "## Puzzle 2"
   ]
  },
  {
   "cell_type": "code",
   "execution_count": 16,
   "metadata": {},
   "outputs": [
    {
     "name": "stdout",
     "output_type": "stream",
     "text": [
      "2818989 [(-734996, 2870614), (2870616, 3229234)]\n",
      "The coordinates are x=2818989 y=2870615\n",
      "The tunning frequency is 11482462818989\n"
     ]
    }
   ],
   "source": [
    "# Now we need to find the row where the beacon can be, by doing the same over every row in the range\n",
    "for row in range(4000000):\n",
    "    segments = []\n",
    "    # Get the ranges for each sensor\n",
    "    for r in readings:\n",
    "        y_diff = abs(r[0][1] - row)\n",
    "        w = r[2] - y_diff\n",
    "        if w >= 0:\n",
    "            segments.append((r[0][0] - w, r[0][0] + w))\n",
    "\n",
    "    # Sort the ranges\n",
    "    segments = sorted(segments, key=lambda x: x[0])\n",
    "\n",
    "    new_segments = [segments[0]]\n",
    "    for s1 in segments[1:]:\n",
    "        # Is there overlap?\n",
    "        if s1[0] <= new_segments[-1][1]+1:\n",
    "            new_segments[-1] = (new_segments[-1][0], max(new_segments[-1][1], s1[1]))\n",
    "        else:\n",
    "            new_segments.append(s1)\n",
    "            break\n",
    "    # If there is more than one segment, means there is a space in the middle where the beacon can be\n",
    "    if len(new_segments) > 1:\n",
    "        print(row, new_segments)\n",
    "        print(f'The coordinates are x={row} y={new_segments[0][1]+1}')\n",
    "        print(f'The tunning frequency is {(new_segments[0][1]+1) * 4000000 + row}')\n",
    "        break\n",
    "        "
   ]
  }
 ],
 "metadata": {
  "kernelspec": {
   "display_name": "venv",
   "language": "python",
   "name": "python3"
  },
  "language_info": {
   "codemirror_mode": {
    "name": "ipython",
    "version": 3
   },
   "file_extension": ".py",
   "mimetype": "text/x-python",
   "name": "python",
   "nbconvert_exporter": "python",
   "pygments_lexer": "ipython3",
   "version": "3.8.10"
  }
 },
 "nbformat": 4,
 "nbformat_minor": 2
}
