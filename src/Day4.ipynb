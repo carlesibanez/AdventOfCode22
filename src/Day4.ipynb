{
 "cells": [
  {
   "cell_type": "markdown",
   "metadata": {},
   "source": [
    "# Day 4"
   ]
  },
  {
   "cell_type": "markdown",
   "metadata": {},
   "source": [
    "## Puzzle 1"
   ]
  },
  {
   "cell_type": "code",
   "execution_count": 1,
   "metadata": {},
   "outputs": [
    {
     "name": "stdout",
     "output_type": "stream",
     "text": [
      "There are 1000 pairs.\n"
     ]
    }
   ],
   "source": [
    "user_input = input(\"Enter the input: \")\n",
    "\n",
    "# The text is splitted on blank spaces as the newline is not conserved\n",
    "content = user_input.split(\" \")\n",
    "print(f'There are {len(content)} pairs.')"
   ]
  },
  {
   "cell_type": "code",
   "execution_count": 12,
   "metadata": {},
   "outputs": [
    {
     "name": "stdout",
     "output_type": "stream",
     "text": [
      "A total of 602 pairs fully overlap.\n"
     ]
    }
   ],
   "source": [
    "count = 0\n",
    "for pair in content:\n",
    "    # The pair is splitted on the coma\n",
    "    elf1, elf2 = pair.split(\",\")\n",
    "    elf1 = elf1.split(\"-\")\n",
    "    elf2 = elf2.split(\"-\")\n",
    "    if (int(elf1[0]) >= int(elf2[0]) and int(elf1[1]) <= int(elf2[1])) or \\\n",
    "       (int(elf1[0]) <= int(elf2[0]) and int(elf1[1]) >= int(elf2[1])):\n",
    "        count += 1\n",
    "\n",
    "print(f'A total of {count} pairs fully overlap.')"
   ]
  },
  {
   "cell_type": "markdown",
   "metadata": {},
   "source": [
    "## Puzzle 2"
   ]
  },
  {
   "cell_type": "code",
   "execution_count": 18,
   "metadata": {},
   "outputs": [
    {
     "name": "stdout",
     "output_type": "stream",
     "text": [
      "A total of 891 pairs partially overlap.\n"
     ]
    }
   ],
   "source": [
    "count = 0\n",
    "for pair in content:\n",
    "    # The pair is splitted on the coma\n",
    "    elf1, elf2 = pair.split(\",\")\n",
    "    elf1 = elf1.split(\"-\")\n",
    "    elf2 = elf2.split(\"-\")\n",
    "    if (int(elf1[0]) <= int(elf2[0]) and int(elf1[1]) >= int(elf2[0])) or \\\n",
    "       (int(elf2[0]) <= int(elf1[0]) and int(elf2[1]) >= int(elf1[0])):\n",
    "        count += 1\n",
    "\n",
    "print(f'A total of {count} pairs partially overlap.')"
   ]
  }
 ],
 "metadata": {
  "kernelspec": {
   "display_name": "venv",
   "language": "python",
   "name": "python3"
  },
  "language_info": {
   "codemirror_mode": {
    "name": "ipython",
    "version": 3
   },
   "file_extension": ".py",
   "mimetype": "text/x-python",
   "name": "python",
   "nbconvert_exporter": "python",
   "pygments_lexer": "ipython3",
   "version": "3.8.10"
  },
  "orig_nbformat": 4
 },
 "nbformat": 4,
 "nbformat_minor": 2
}
