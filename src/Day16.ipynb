{
 "cells": [
  {
   "cell_type": "markdown",
   "metadata": {},
   "source": [
    "# Day 16"
   ]
  },
  {
   "cell_type": "code",
   "execution_count": 1,
   "metadata": {},
   "outputs": [
    {
     "name": "stdout",
     "output_type": "stream",
     "text": [
      "The file contains 56 lines.\n"
     ]
    }
   ],
   "source": [
    "with open('../inputs/adventofcode.com_2022_day_16_input.txt', 'r') as f:\n",
    "    data = f.read().splitlines()\n",
    "\n",
    "print(f'The file contains {len(data)} lines.')"
   ]
  },
  {
   "cell_type": "code",
   "execution_count": 2,
   "metadata": {},
   "outputs": [],
   "source": [
    "# Imports\n",
    "import re\n",
    "from collections import deque"
   ]
  },
  {
   "cell_type": "markdown",
   "metadata": {},
   "source": [
    "## Puzzle 1"
   ]
  },
  {
   "cell_type": "code",
   "execution_count": 3,
   "metadata": {},
   "outputs": [],
   "source": [
    "# Valve class\n",
    "class Valve():\n",
    "    def __init__(self, name, rate, tunnels):\n",
    "        self.name = name\n",
    "        self.rate = rate\n",
    "        self.tunnels = tunnels\n",
    "\n",
    "    def __repr__(self):\n",
    "        return f'Valve {self.name} has flow rate={self.rate}; tunnels lead to valves {\", \".join(self.tunnels)}'\n"
   ]
  },
  {
   "cell_type": "code",
   "execution_count": 4,
   "metadata": {},
   "outputs": [
    {
     "name": "stdout",
     "output_type": "stream",
     "text": [
      "There are 56 valves.\n"
     ]
    }
   ],
   "source": [
    "pattern = re.compile(r'^Valve (?P<name>[A-Z]{2}) has flow rate=(?P<rate>\\d+); (?:tunnels lead to valves|tunnel leads to valve) (?P<valves>[A-Z, ]*)$')\n",
    "\n",
    "# For each line in data, exract the information and store it in a dictionary\n",
    "valves = {}\n",
    "for line in data:\n",
    "    match = pattern.match(line)\n",
    "    # Extract the valve name\n",
    "    valve_name = match[\"name\"]\n",
    "    # Extract the flow rate\n",
    "    rate = int(match[\"rate\"])    \n",
    "    # Extract the tunnels\n",
    "    tunnels = match[\"valves\"].split(\", \")\n",
    "    # Store the valve information in the dictionary\n",
    "    valves[valve_name] = Valve(valve_name, rate, tunnels)\n",
    "\n",
    "print(f'There are {len(valves)} valves.')\n"
   ]
  },
  {
   "cell_type": "code",
   "execution_count": 5,
   "metadata": {},
   "outputs": [],
   "source": [
    "# Function to comput the distance between two valves\n",
    "def compute_distance(valve1, valve2, visited=[]):\n",
    "    # If the valve is a directly connected\n",
    "    if valve2.name in valve1.tunnels:\n",
    "        return 1\n",
    "    \n",
    "    else:\n",
    "        visited.append(valve1)\n",
    "        # Check for each of the tunnels of v1\n",
    "        distances = []\n",
    "        for t in valve1.tunnels:\n",
    "            if valves[t] not in visited:\n",
    "                distances.append(compute_distance(valves[t], valve2, visited[:]))\n",
    "                \n",
    "        # If there's no direct connection, return max distance\n",
    "        if len(distances) == 0:\n",
    "            return len(valves)\n",
    "        else:\n",
    "            return min(distances) + 1\n",
    "    \n",
    "\n",
    "# Create a dictionary to store the distances\n",
    "dist = {v: {valves[t]: 1 for t in v.tunnels} for v in valves.values()}\n",
    "\n",
    "for valve in valves.values():\n",
    "    for v2 in valves.values():\n",
    "        if valve != v2 and v2 not in dist[valve].keys() and v2.rate > 0:\n",
    "            d = compute_distance(valves[valve.name], valves[v2.name], [])\n",
    "            dist[valve][v2] = d\n"
   ]
  },
  {
   "cell_type": "code",
   "execution_count": 6,
   "metadata": {},
   "outputs": [
    {
     "name": "stdout",
     "output_type": "stream",
     "text": [
      "1460\n"
     ]
    }
   ],
   "source": [
    "class step:\n",
    "    def __init__(self, valve, minutes_left, pressure, visited):\n",
    "        self.valve = valve \n",
    "        self.minutes_left = minutes_left\n",
    "        self.pressure  = pressure\n",
    "        self.visited = visited \n",
    "        \n",
    "    def explore(self):\n",
    "        for valve, steps in dist[self.valve].items():\n",
    "            time_left = self.minutes_left\n",
    "            if valve.rate > 0 and valve not in self.visited and (time_left := self.minutes_left - steps - 1) > 0:\n",
    "                yield __class__(valve, \n",
    "                           time_left, \n",
    "                           self.pressure + valve.rate * time_left, \n",
    "                           frozenset(self.visited) | frozenset({valve}),\n",
    "                           )\n",
    "                \n",
    "\n",
    "max_relief = {}\n",
    "\n",
    "# We use breadth-first search to explore the possible paths\n",
    "queue = deque([step(valves['AA'], 30, 0, frozenset({valves['AA']}))])\n",
    "\n",
    "while queue:\n",
    "    node = queue.popleft()\n",
    "    for new_node in node.explore():\n",
    "        max_relief[new_node.visited] = max(\n",
    "                    max_relief.get(new_node.visited, 0), new_node.pressure\n",
    "                )\n",
    "        queue.append(new_node)\n",
    "        \n",
    "print(max(max_relief.values()))"
   ]
  },
  {
   "cell_type": "markdown",
   "metadata": {},
   "source": [
    "## Puzzle 2"
   ]
  },
  {
   "cell_type": "code",
   "execution_count": 7,
   "metadata": {},
   "outputs": [
    {
     "name": "stdout",
     "output_type": "stream",
     "text": [
      "2117\n"
     ]
    }
   ],
   "source": [
    "class step:\n",
    "    def __init__(self, valve, minutes_left, pressure, visited):\n",
    "        self.valve = valve \n",
    "        self.minutes_left = minutes_left\n",
    "        self.pressure  = pressure\n",
    "        self.visited = visited \n",
    "        \n",
    "    def explore(self):\n",
    "        for valve, steps in dist[self.valve].items():\n",
    "            time_left = self.minutes_left\n",
    "            if valve.rate > 0 and valve not in self.visited and (time_left := self.minutes_left - steps - 1) > 0:\n",
    "                yield __class__(valve, \n",
    "                           time_left, \n",
    "                           self.pressure + valve.rate * time_left, \n",
    "                           frozenset(self.visited) | frozenset({valve}),\n",
    "                           )\n",
    "                \n",
    "max_relief = {}\n",
    "\n",
    "queue = deque([step(valves['AA'], 26, 0, frozenset({}))])\n",
    "\n",
    "while queue:\n",
    "    node = queue.popleft()\n",
    "    # print(valves_left)\n",
    "    for new_node in node.explore():\n",
    "        queue2 = deque([step(valves['AA'], 26, 0, frozenset(new_node.visited))])\n",
    "        while queue2:\n",
    "            node2 = queue2.popleft()\n",
    "            for new_node2 in node2.explore():\n",
    "                visited_nodes = new_node.visited | new_node2.visited\n",
    "\n",
    "                max_relief[visited_nodes] = max(\n",
    "                            max_relief.get(visited_nodes, 0), new_node.pressure + new_node2.pressure\n",
    "                        )\n",
    "                queue2.append(new_node2)\n",
    "        queue.append(new_node)\n",
    "        \n",
    "print(max(max_relief.values()))"
   ]
  }
 ],
 "metadata": {
  "kernelspec": {
   "display_name": "venv",
   "language": "python",
   "name": "python3"
  },
  "language_info": {
   "codemirror_mode": {
    "name": "ipython",
    "version": 3
   },
   "file_extension": ".py",
   "mimetype": "text/x-python",
   "name": "python",
   "nbconvert_exporter": "python",
   "pygments_lexer": "ipython3",
   "version": "3.8.10"
  }
 },
 "nbformat": 4,
 "nbformat_minor": 2
}
