{
 "cells": [
  {
   "cell_type": "markdown",
   "metadata": {},
   "source": [
    "# Day 21"
   ]
  },
  {
   "cell_type": "code",
   "execution_count": 17,
   "metadata": {},
   "outputs": [
    {
     "name": "stdout",
     "output_type": "stream",
     "text": [
      "The file contains 2087 monkeys.\n"
     ]
    }
   ],
   "source": [
    "with open('../inputs/adventofcode.com_2022_day_21_input.txt', 'r') as f:\n",
    "    data = f.read().splitlines()\n",
    "\n",
    "print(f'The file contains {len(data)} monkeys.')"
   ]
  },
  {
   "cell_type": "markdown",
   "metadata": {},
   "source": [
    "## Puzzle 1"
   ]
  },
  {
   "cell_type": "code",
   "execution_count": 18,
   "metadata": {},
   "outputs": [
    {
     "name": "stdout",
     "output_type": "stream",
     "text": [
      "The value of the root monkey is 10037517593724\n"
     ]
    }
   ],
   "source": [
    "import re\n",
    "\n",
    "\n",
    "class Monkey:\n",
    "    def __init__(self, name, content):\n",
    "        self.name = name\n",
    "        self.content = content\n",
    "\n",
    "    def __repr__(self):\n",
    "        return f'{self.name}: {self.content}'\n",
    "\n",
    "    def __eq__(self, other):\n",
    "        return self.name == other.name\n",
    "\n",
    "    def __hash__(self):\n",
    "        return hash(self.name)\n",
    "    \n",
    "    def get_value(self):\n",
    "        # If the content is a single number, that is the value\n",
    "        if self.content.isnumeric():\n",
    "            self.value = int(self.content)\n",
    "\n",
    "        # Otherwise it is an expression\n",
    "        else:\n",
    "            self.value = self.calculate_expression()\n",
    "        return self.value\n",
    "\n",
    "    def calculate_expression(self):\n",
    "        \n",
    "        pattern = re.compile(r'(\\w{4})\\s(.)\\s(\\w{4})')\n",
    "        match = pattern.match(self.content)\n",
    "\n",
    "        if match and len(match.groups()) == 3:\n",
    "            m1 = monkeys[match.group(1)].get_value()\n",
    "            m2 = monkeys[match.group(3)].get_value()\n",
    "            if match.group(2) == '+':\n",
    "                return m1 + m2\n",
    "            elif match.group(2) == '-':\n",
    "                return m1-m2\n",
    "            elif match.group(2) == '*':\n",
    "                return m1 * m2\n",
    "            elif match.group(2) == '/':\n",
    "                return m1 / m2\n",
    "        else:\n",
    "            print(f'No match found')\n",
    "            return None\n",
    "    \n",
    "\n",
    "monkeys = {}\n",
    "pattern = re.compile(r'(.{4}):\\s(.*)')\n",
    "\n",
    "for line in data:\n",
    "    match = pattern.match(line)\n",
    "    name = match.group(1)\n",
    "    content = match.group(2)\n",
    "    m = Monkey(name, content)\n",
    "    if m not in monkeys.keys():\n",
    "        monkeys[name] = m\n",
    "    else:\n",
    "        print(f'{m} already in monkeys')\n",
    "\n",
    "# print(monkeys)\n",
    "print(f'The value of the root monkey is {monkeys[\"root\"].get_value():.0f}')"
   ]
  },
  {
   "cell_type": "markdown",
   "metadata": {},
   "source": [
    "## Puzzle 2"
   ]
  },
  {
   "cell_type": "code",
   "execution_count": 19,
   "metadata": {},
   "outputs": [],
   "source": [
    "import re\n",
    "\n",
    "\n",
    "class Monkey:\n",
    "    def __init__(self, name, content):\n",
    "        self.name = name\n",
    "        self.content = content\n",
    "\n",
    "        if self.content.isnumeric():\n",
    "            self.value = int(self.content)\n",
    "            self.left = None\n",
    "            self.right = None\n",
    "            self.operator = None\n",
    "        else:\n",
    "            pattern = re.compile(r'(\\w{4})\\s(.)\\s(\\w{4})')\n",
    "            match = pattern.match(self.content)\n",
    "            if match and len(match.groups()) == 3:\n",
    "                self.left = match.group(1)\n",
    "                self.right = match.group(3)\n",
    "                self.operator = match.group(2)\n",
    "                self.value = None\n",
    "            else:\n",
    "                print(f'No match found')\n",
    "\n",
    "        if self.name == 'humn':\n",
    "            self.value = None\n",
    "\n",
    "    def __repr__(self):\n",
    "        return f'{self.name}: {self.content}, {self.left}, {self.right}'\n",
    "\n",
    "\n",
    "    def __eq__(self, other):\n",
    "        return self.name == other.name\n",
    "\n",
    "    def __hash__(self):\n",
    "        return hash(self.name)\n",
    "    \n",
    "    def get_value(self):\n",
    "        # If value has not been assigned yet, calculate it\n",
    "        # Only humn node is allowed to have a value of None\n",
    "        if self.value is None and self.name != 'humn':\n",
    "            self.value = self.calculate_expression()\n",
    "        return self.value\n",
    "\n",
    "    def calculate_expression(self):\n",
    "        \n",
    "        pattern = re.compile(r'(\\w{4})\\s(.)\\s(\\w{4})')\n",
    "        match = pattern.match(self.content)\n",
    "        if match and len(match.groups()) == 3:\n",
    "            m1 = monkeys[match.group(1)].get_value()\n",
    "            m2 = monkeys[match.group(3)].get_value()\n",
    "            if m1 is None or m2 is None:\n",
    "                return None\n",
    "            if match.group(2) == '+':\n",
    "                return m1 + m2\n",
    "            elif match.group(2) == '-':\n",
    "                return m1-m2\n",
    "            elif match.group(2) == '*':\n",
    "                return m1 * m2\n",
    "            elif match.group(2) == '/':\n",
    "                return m1 / m2\n",
    "        else:\n",
    "            print(f'No match found')\n",
    "            return None\n",
    "    \n",
    "    \n",
    "\n",
    "monkeys = {}\n",
    "pattern = re.compile(r'(.{4}):\\s(.*)')\n",
    "\n",
    "for line in data:\n",
    "    match = pattern.match(line)\n",
    "    name = match.group(1)\n",
    "    content = match.group(2)\n",
    "    m = Monkey(name, content)\n",
    "    if m not in monkeys.keys():\n",
    "        monkeys[name] = m\n",
    "    else:\n",
    "        print(f'{m} already in monkeys')\n",
    "\n"
   ]
  },
  {
   "cell_type": "code",
   "execution_count": 20,
   "metadata": {},
   "outputs": [
    {
     "name": "stdout",
     "output_type": "stream",
     "text": [
      "Evaluating right branch of root\n",
      "792784087587.0\n",
      "Evaluating left branch of root\n",
      "None\n"
     ]
    }
   ],
   "source": [
    "# Run this cell to check which branch, left or right has the humn node\n",
    "\n",
    "print(f'Evaluating right branch of root')\n",
    "right = monkeys[monkeys[\"root\"].right].get_value()\n",
    "print(right)\n",
    "\n",
    "print(f'Evaluating left branch of root')\n",
    "left = monkeys[monkeys[\"root\"].left].get_value()\n",
    "print(left)\n"
   ]
  },
  {
   "cell_type": "code",
   "execution_count": 21,
   "metadata": {},
   "outputs": [
    {
     "name": "stdout",
     "output_type": "stream",
     "text": [
      "The value of humn is 3272260914328\n"
     ]
    }
   ],
   "source": [
    "# This flag should be set to the branch that HAS the humn node, the one that returned None\n",
    "flag = 'left'\n",
    "remaining_value = right # Also set this parameter to the opposite as the previous\n",
    "current = monkeys['root'].name\n",
    "\n",
    "while True:\n",
    "    if flag == 'left':\n",
    "        current = monkeys[current].left\n",
    "    elif flag == 'right':\n",
    "        current = monkeys[current].right\n",
    "\n",
    "    # If the current node is the humn node, print the value and break the loop, we are done\n",
    "    if current == 'humn':\n",
    "        print(f'The value of humn is {remaining_value:.0f}')\n",
    "        break\n",
    "        \n",
    "\n",
    "    left = monkeys[monkeys[current].left].get_value()\n",
    "    right = monkeys[monkeys[current].right].get_value()\n",
    "\n",
    "    # Apply the reverse operation\n",
    "    if left is None or right is None:\n",
    "        if monkeys[current].operator == '+':\n",
    "            if right is not None:\n",
    "                remaining_value -= right\n",
    "                flag = 'left'\n",
    "            elif left is not None:\n",
    "                remaining_value -= left \n",
    "                flag = 'right'\n",
    "        elif monkeys[current].operator == '-':\n",
    "            if left is None:\n",
    "                remaining_value += right\n",
    "                flag = 'left'\n",
    "            elif right is None:\n",
    "                remaining_value -= left\n",
    "                remaining_value = -remaining_value\n",
    "                flag = 'right'\n",
    "        elif monkeys[current].operator == '*':\n",
    "            if left is None:\n",
    "                remaining_value /= right\n",
    "                flag = 'left'\n",
    "            elif right is None:\n",
    "                remaining_value /= left \n",
    "                flag = 'right'\n",
    "        elif monkeys[current].operator == '/':\n",
    "            if left is None:\n",
    "                remaining_value *= right\n",
    "                flag = 'left'\n",
    "            elif right is None:\n",
    "                remaining_value /= left \n",
    "                remaining_value = 1/remaining_value\n",
    "                flag = 'right'\n",
    "\n"
   ]
  }
 ],
 "metadata": {
  "kernelspec": {
   "display_name": "venv",
   "language": "python",
   "name": "python3"
  },
  "language_info": {
   "codemirror_mode": {
    "name": "ipython",
    "version": 3
   },
   "file_extension": ".py",
   "mimetype": "text/x-python",
   "name": "python",
   "nbconvert_exporter": "python",
   "pygments_lexer": "ipython3",
   "version": "3.8.10"
  }
 },
 "nbformat": 4,
 "nbformat_minor": 2
}
