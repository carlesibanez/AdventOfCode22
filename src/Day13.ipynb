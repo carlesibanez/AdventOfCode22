{
 "cells": [
  {
   "cell_type": "markdown",
   "metadata": {},
   "source": [
    "# Day 13"
   ]
  },
  {
   "cell_type": "code",
   "execution_count": 1,
   "metadata": {},
   "outputs": [
    {
     "name": "stdout",
     "output_type": "stream",
     "text": [
      "The file contains 449 lines.\n"
     ]
    }
   ],
   "source": [
    "with open('../inputs/adventofcode.com_2022_day_13_input.txt', 'r') as f:\n",
    "    data = f.read().splitlines()\n",
    "\n",
    "print(f'The file contains {len(data)} lines.')"
   ]
  },
  {
   "cell_type": "markdown",
   "metadata": {},
   "source": [
    "## Puzzle 1"
   ]
  },
  {
   "cell_type": "code",
   "execution_count": 2,
   "metadata": {},
   "outputs": [],
   "source": [
    "# Function to compare two lists\n",
    "def compare(left, right):\n",
    "    # Make sure we are comparing lists\n",
    "    if not isinstance(left, list):\n",
    "        left = [left]\n",
    "    if not isinstance(right, list):\n",
    "        right = [right]\n",
    "\n",
    "    for e1, e2 in zip(left, right):\n",
    "\n",
    "        if isinstance(e1, list) or isinstance(e2, list):\n",
    "            result = compare(e1, e2)\n",
    "            if result == None:\n",
    "                continue\n",
    "            else:\n",
    "                return result\n",
    "\n",
    "        if e1 < e2:\n",
    "            # print(f'{e1} < {e2}, they are in the right order')   # --> Input is in the right order\n",
    "            return True\n",
    "        elif e1 > e2:\n",
    "            # print(f'{e1} > {e2}, they are not in the right order')   # --> Input is not in the right order \n",
    "            return False\n",
    "        else:\n",
    "            pass\n",
    "    \n",
    "    # If we get here, it means that the two lists are equal, check if one of them has more elements\n",
    "    if len(left) < len(right):\n",
    "        # print(f'{len(left)} < {len(right)}, left side ran out of items, they are in the right order')   # --> Input is in the right order\n",
    "        return True\n",
    "    elif len(left) > len(right):\n",
    "        # print(f'{len(left)} > {len(right)}, right side ran out of items, they are not in the right order')\n",
    "        return False"
   ]
  },
  {
   "cell_type": "code",
   "execution_count": 3,
   "metadata": {},
   "outputs": [
    {
     "name": "stdout",
     "output_type": "stream",
     "text": [
      "Number of results that are True: 6420\n"
     ]
    }
   ],
   "source": [
    "results = []\n",
    "\n",
    "for i in range(0, len(data), 3):\n",
    "    # print(f'Line 1: {i}: {data[i]}')\n",
    "    # print(f'Line 2: {i + 1}: {data[i + 1]}')\n",
    "\n",
    "    line1 = eval(data[i])\n",
    "    line2 = eval(data[i + 1])\n",
    "    r = compare(line1, line2)\n",
    "    results.append(r)\n",
    "    # print('---------------------')\n",
    "\n",
    "# print(results)\n",
    "idx_true = [idx+1 for idx, val in enumerate(results) if val == True]\n",
    "idx_true_sum = sum(idx_true)\n",
    "print(f'Number of results that are True: {idx_true_sum}')"
   ]
  },
  {
   "cell_type": "markdown",
   "metadata": {},
   "source": [
    "## Puzzle 2"
   ]
  },
  {
   "cell_type": "code",
   "execution_count": 4,
   "metadata": {},
   "outputs": [
    {
     "name": "stdout",
     "output_type": "stream",
     "text": [
      "The dividers are at 110 and 200. The product of the two numbers is 22000.\n"
     ]
    }
   ],
   "source": [
    "data = [line for i, line in enumerate(data) if i % 3 != 2]\n",
    "# Add dividers\n",
    "data.append('[[2]]')\n",
    "data.append('[[6]]')\n",
    "\n",
    "idx1 = 0\n",
    "idx2 = 1\n",
    "while idx2 < len(data):\n",
    "    line1 = eval(data[idx1])\n",
    "    line2 = eval(data[idx2])\n",
    "    r = compare(line1, line2)\n",
    "    \n",
    "    if r == False:\n",
    "        # print(f'Line {idx1 + 1} is not in the right order. Switching...')\n",
    "        temp = data[idx1]\n",
    "        data[idx1] = data[idx2]\n",
    "        data[idx2] = temp\n",
    "        idx1 = max(0, idx1- 1)\n",
    "        idx2 = max(1, idx2- 1)\n",
    "    else:\n",
    "        # print(f'Line {idx1 + 1} is in the right order')\n",
    "        idx1 += 1\n",
    "        idx2 += 1\n",
    "\n",
    "# print(data)\n",
    "idx_d1 = data.index(\"[[2]]\") + 1\n",
    "idx_d2 = data.index(\"[[6]]\") + 1\n",
    "print(f'The dividers are at {idx_d1} and {idx_d2}. The product of the two numbers is {idx_d1 * idx_d2}.')\n"
   ]
  }
 ],
 "metadata": {
  "kernelspec": {
   "display_name": "venv",
   "language": "python",
   "name": "python3"
  },
  "language_info": {
   "codemirror_mode": {
    "name": "ipython",
    "version": 3
   },
   "file_extension": ".py",
   "mimetype": "text/x-python",
   "name": "python",
   "nbconvert_exporter": "python",
   "pygments_lexer": "ipython3",
   "version": "3.8.10"
  }
 },
 "nbformat": 4,
 "nbformat_minor": 2
}
