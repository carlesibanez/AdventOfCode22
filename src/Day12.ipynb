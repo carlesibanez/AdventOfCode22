{
 "cells": [
  {
   "cell_type": "markdown",
   "metadata": {},
   "source": [
    "# Day 12"
   ]
  },
  {
   "cell_type": "markdown",
   "metadata": {},
   "source": [
    "## Puzzle 1"
   ]
  },
  {
   "cell_type": "code",
   "execution_count": 36,
   "metadata": {},
   "outputs": [
    {
     "name": "stdout",
     "output_type": "stream",
     "text": [
      "The file contains 41 lines.\n"
     ]
    }
   ],
   "source": [
    "with open('../inputs/adventofcode.com_2022_day_12_input.txt', 'r') as f:\n",
    "    data = f.read().splitlines()\n",
    "\n",
    "print(f'The file contains {len(data)} lines.')"
   ]
  },
  {
   "cell_type": "code",
   "execution_count": 37,
   "metadata": {},
   "outputs": [
    {
     "name": "stdout",
     "output_type": "stream",
     "text": [
      "{'a': 1, 'b': 2, 'c': 3, 'd': 4, 'e': 5, 'f': 6, 'g': 7, 'h': 8, 'i': 9, 'j': 10, 'k': 11, 'l': 12, 'm': 13, 'n': 14, 'o': 15, 'p': 16, 'q': 17, 'r': 18, 's': 19, 't': 20, 'u': 21, 'v': 22, 'w': 23, 'x': 24, 'y': 25, 'z': 26}\n"
     ]
    }
   ],
   "source": [
    "# Translate lowercase to number\n",
    "import string\n",
    "num = 0\n",
    "char2num = {}\n",
    "for char in string.ascii_lowercase:\n",
    "    num += 1\n",
    "    char2num[char] = num\n",
    "print(char2num)"
   ]
  },
  {
   "cell_type": "code",
   "execution_count": 38,
   "metadata": {},
   "outputs": [
    {
     "name": "stdout",
     "output_type": "stream",
     "text": [
      "start=[20, 0], end=[20, 120]\n",
      "[[1. 2. 3. ... 1. 1. 1.]\n",
      " [1. 2. 3. ... 1. 1. 1.]\n",
      " [1. 2. 3. ... 1. 1. 1.]\n",
      " ...\n",
      " [1. 2. 3. ... 3. 1. 1.]\n",
      " [1. 2. 3. ... 1. 1. 1.]\n",
      " [1. 2. 3. ... 1. 1. 1.]]\n",
      "(41, 143)\n"
     ]
    }
   ],
   "source": [
    "import numpy as np\n",
    "\n",
    "# Create the board with the corresponding height for the letters\n",
    "start = [-1, -1]\n",
    "end = [-1, -1]\n",
    "board = np.zeros((int(len(data)), int(len(data[0]))))\n",
    "\n",
    "for i, line in enumerate(data):\n",
    "    for j, char in enumerate(line):\n",
    "        if char == 'S':\n",
    "            start = [i, j]\n",
    "            board[i, j] = 0\n",
    "        elif char == 'E':\n",
    "            end = [i, j]\n",
    "            board[i, j] = 26\n",
    "        else:\n",
    "            board[i, j] = char2num[char]\n",
    "\n",
    "print(f'{start=}, {end=}')\n",
    "print(board)\n",
    "print(board.shape)"
   ]
  },
  {
   "cell_type": "code",
   "execution_count": 39,
   "metadata": {},
   "outputs": [],
   "source": [
    "# Helpper function to draw the path\n",
    "# 1 denores the path, 0 the rest\n",
    "def draw_path(board, current_node, file_name='path.txt'):\n",
    "    path = np.zeros(board.shape)\n",
    "    while current_node.parent:\n",
    "        path[current_node.row, current_node.col] = 1\n",
    "        current_node = current_node.parent\n",
    "\n",
    "    # Save to file to visualize\n",
    "    with open(file_name, 'w') as f:\n",
    "        for i in range(path.shape[0]):\n",
    "            for j in range(path.shape[1]):\n",
    "                f.write(str(int(path[i, j])))\n",
    "            f.write('\\n')"
   ]
  },
  {
   "cell_type": "markdown",
   "metadata": {},
   "source": [
    "To solve this puzzle I implemented the A* algorithm to go from the starting position to the goal. The explanation for this algorithm can be found [here](https://en.wikipedia.org/wiki/A*_search_algorithm).\n",
    "\n",
    "Note: The heuristics used is the Manhattan distance."
   ]
  },
  {
   "cell_type": "code",
   "execution_count": 40,
   "metadata": {},
   "outputs": [],
   "source": [
    "# Class to represent the nodes (cells) in the board\n",
    "class Node():\n",
    "    def __init__(self, coords, g, end, parent):\n",
    "        self.row = coords[0]\n",
    "        self.col = coords[1]\n",
    "        self.g = g\n",
    "        self.h = abs(end[0] - self.row) + abs(end[1] - self.col)\n",
    "        self.parent = parent\n",
    "\n",
    "    def f(self):\n",
    "        return self.g + self.h\n",
    "\n",
    "    def __repr__(self):\n",
    "        return f'({self.row}, {self.col}, {self.f()})'\n",
    "    \n",
    "    def __eq__(self, other):\n",
    "        return self.row == other.row and self.col == other.col\n",
    "    \n",
    "    def update_parent(self, new_parent):\n",
    "        self.parent = new_parent\n",
    "        "
   ]
  },
  {
   "cell_type": "code",
   "execution_count": 41,
   "metadata": {},
   "outputs": [
    {
     "name": "stdout",
     "output_type": "stream",
     "text": [
      "We are done!\n",
      "The goal was reached in 468 steps.\n"
     ]
    }
   ],
   "source": [
    "# Start and end nodes\n",
    "start_node = Node(start, 0, end, None)\n",
    "end_node = Node(end, 0, end, None)\n",
    "\n",
    "# Initialize the open set with the start node, and the close list empty\n",
    "open_set = [start_node]\n",
    "closed_list = []\n",
    "\n",
    "while True:\n",
    "    # find the node with the lowest f score\n",
    "    f_scores = [node.f() for node in open_set]\n",
    "    idx = np.argmin(f_scores)\n",
    "    current_node = open_set.pop(idx)\n",
    "    row, col, g = current_node.row, current_node.col, current_node.g\n",
    "\n",
    "    # if we have reached the end, we are done\n",
    "    if current_node == end_node:\n",
    "        print('We are done!')\n",
    "        print(f'The goal was reached in {current_node.g} steps.')\n",
    "        break\n",
    "\n",
    "    else:\n",
    "        # put the current node in the closed list and look at all of its neighbors\n",
    "        closed_list.append(current_node)\n",
    "\n",
    "        # look at all of its neighbors (right, down, left, up)\n",
    "        for n,m in [[0, 1], [1, 0], [0, -1], [-1, 0]]:\n",
    "            # A neighbor is valid if it is not outside the board and the difference in height is at most 1\n",
    "            if row+n >= 0 and row+n < board.shape[0] and col+m >= 0 and col+m < board.shape[1] and board[row+n, col+m] - board[row, col] <= 1: \n",
    "                # if the neighbor has lower g value than current and is in the closed list\n",
    "                neighbor = Node([row+n, col+m], g+1, end, current_node)\n",
    "                if neighbor in closed_list:\n",
    "                    idx = closed_list.index(neighbor)\n",
    "                    if closed_list[idx].g > neighbor.g:\n",
    "                        closed_list[idx].g = neighbor.g\n",
    "                        closed_list[idx].update_parent(current_node)\n",
    "\n",
    "                # else if current g value is lower and this neighbor is in the open list\n",
    "                elif neighbor in open_set:\n",
    "                    idx = open_set.index(neighbor)\n",
    "                    if open_set[idx].g > neighbor.g:\n",
    "                        open_set[idx].g = neighbor.g\n",
    "                        open_set[idx].update_parent(current_node)\n",
    "\n",
    "                # else if this neighbor is not in either list\n",
    "                else:\n",
    "                    open_set.append(neighbor)\n",
    "                    neighbor.g = g + 1\n"
   ]
  },
  {
   "cell_type": "code",
   "execution_count": 42,
   "metadata": {},
   "outputs": [],
   "source": [
    "draw_path(board, current_node, 'puzzle1_path.txt')"
   ]
  },
  {
   "cell_type": "markdown",
   "metadata": {},
   "source": [
    "## Part 2"
   ]
  },
  {
   "cell_type": "markdown",
   "metadata": {},
   "source": [
    "To solve this second part, instead of going up from all the possible cells with height ```a```, we start at the top and go down. \n",
    "\n",
    "In this case, since we will invert the direction, it is important to notice that:\n",
    "* We can only go down one at a time\n",
    "* We can go up more than one at a time"
   ]
  },
  {
   "cell_type": "code",
   "execution_count": 43,
   "metadata": {},
   "outputs": [],
   "source": [
    "# Since we don't know the ending position, we don't use heuristics\n",
    "class Node():\n",
    "    def __init__(self, coords, g, parent):\n",
    "        self.row = coords[0]\n",
    "        self.col = coords[1]\n",
    "        self.g = g\n",
    "        self.parent = parent\n",
    "\n",
    "    def __repr__(self):\n",
    "        return f'({self.row}, {self.col}, {self.f()})'\n",
    "    \n",
    "    def __eq__(self, other):\n",
    "        return self.row == other.row and self.col == other.col\n",
    "    \n",
    "    def update_parent(self, new_parent):\n",
    "        self.parent = new_parent"
   ]
  },
  {
   "cell_type": "code",
   "execution_count": 44,
   "metadata": {},
   "outputs": [
    {
     "name": "stdout",
     "output_type": "stream",
     "text": [
      "We are done!\n",
      "The goal was reached in 459 steps.\n"
     ]
    }
   ],
   "source": [
    "start_node = Node(end, 0, None)\n",
    "\n",
    "open_set = [start_node]\n",
    "closed_list = []\n",
    "\n",
    "while True:\n",
    "    # find the node with the lowest g score\n",
    "    g_scores = [node.g for node in open_set]\n",
    "    idx = np.argmin(g_scores)\n",
    "    current_node = open_set.pop(idx)\n",
    "    row, col, g = current_node.row, current_node.col, current_node.g\n",
    "\n",
    "    # if we have reached the end, we are done\n",
    "    if board[row, col] == 1:\n",
    "        print('We are done!')\n",
    "        print(f'The goal was reached in {current_node.g} steps.')\n",
    "        break\n",
    "\n",
    "    else:\n",
    "        # put the current node in the closed list and look at all of its neighbors\n",
    "        closed_list.append(current_node)\n",
    "        # look at all of its neighbors (right, down, left, up)\n",
    "        for n,m in [[0, 1], [1, 0], [0, -1], [-1, 0]]:\n",
    "            # A neighbor is valid if it is not outside the board and the difference in height is at most 1 (go down one at a time)\n",
    "            if row+n >= 0 and row+n < board.shape[0] and col+m >= 0 and col+m < board.shape[1] and board[row+n, col+m] - board[row, col] >= -1: \n",
    "                # if the neighbor has lower g value than current and is in the closed list\n",
    "                \n",
    "                neighbor = Node([row+n, col+m], g+1, current_node)\n",
    "                if neighbor in closed_list:\n",
    "                    idx = closed_list.index(neighbor)\n",
    "                    if closed_list[idx].g > neighbor.g:\n",
    "                        closed_list[idx].g = neighbor.g\n",
    "                        closed_list[idx].update_parent(current_node)\n",
    "\n",
    "                # else if current g value is lower and this neighbor is in the open list\n",
    "                elif neighbor in open_set:\n",
    "                    idx = open_set.index(neighbor)\n",
    "                    if open_set[idx].g > neighbor.g:\n",
    "                        open_set[idx].g = neighbor.g\n",
    "                        open_set[idx].update_parent(current_node)\n",
    "                        \n",
    "                # else if this neighbor is not in both lists\n",
    "                else:\n",
    "                    # print(f'Node {neighbor} is not in either list. Adding to open set.')\n",
    "                    open_set.append(neighbor)\n",
    "                    neighbor.g = g + 1"
   ]
  },
  {
   "cell_type": "code",
   "execution_count": 45,
   "metadata": {},
   "outputs": [],
   "source": [
    "draw_path(board, current_node, 'puzzle2_path.txt')"
   ]
  }
 ],
 "metadata": {
  "kernelspec": {
   "display_name": "venv",
   "language": "python",
   "name": "python3"
  },
  "language_info": {
   "codemirror_mode": {
    "name": "ipython",
    "version": 3
   },
   "file_extension": ".py",
   "mimetype": "text/x-python",
   "name": "python",
   "nbconvert_exporter": "python",
   "pygments_lexer": "ipython3",
   "version": "3.8.10"
  }
 },
 "nbformat": 4,
 "nbformat_minor": 2
}
