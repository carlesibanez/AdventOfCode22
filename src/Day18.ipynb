{
 "cells": [
  {
   "cell_type": "markdown",
   "metadata": {},
   "source": [
    "# Day 18"
   ]
  },
  {
   "cell_type": "code",
   "execution_count": 46,
   "metadata": {},
   "outputs": [
    {
     "name": "stdout",
     "output_type": "stream",
     "text": [
      "The file contains 2117 movements.\n"
     ]
    }
   ],
   "source": [
    "with open('../inputs/adventofcode.com_2022_day_18_input.txt', 'r') as f:\n",
    "    data = f.read().splitlines()\n",
    "\n",
    "print(f'The file contains {len(data)} movements.')"
   ]
  },
  {
   "cell_type": "markdown",
   "metadata": {},
   "source": [
    "## Puzzle 1"
   ]
  },
  {
   "cell_type": "code",
   "execution_count": 47,
   "metadata": {},
   "outputs": [
    {
     "name": "stdout",
     "output_type": "stream",
     "text": [
      "There are 3500 exposed sides.\n"
     ]
    }
   ],
   "source": [
    "rocks = [[int(x),int(y),int(z)] for x,y,z in [line.split(',') for line in data]]\n",
    "\n",
    "def get_neighbours(x,y,z):\n",
    "    return [[x+dx, y+dy, z+dz] for dx in [-1,0,1] for dy in [-1,0,1] for dz in [-1,0,1] if (dx,dy,dz) != (0,0,0) and abs(dx)+abs(dy)+abs(dz) <= 1]\n",
    "\n",
    "\n",
    "total_num_sides = 0\n",
    "for x,y,z in rocks:\n",
    "    num_sides = 6\n",
    "    for n in get_neighbours(x,y,z):\n",
    "        if n in rocks:\n",
    "            num_sides -= 1\n",
    "    total_num_sides += num_sides\n",
    "\n",
    "print(f'There are {total_num_sides} exposed sides.')"
   ]
  },
  {
   "cell_type": "markdown",
   "metadata": {},
   "source": [
    "## Puzzle 2"
   ]
  },
  {
   "cell_type": "code",
   "execution_count": 48,
   "metadata": {},
   "outputs": [
    {
     "name": "stdout",
     "output_type": "stream",
     "text": [
      "The maximum coordinates are 19.\n",
      "There are 1064 empty squares\n",
      "There are 2048 exposed sides.\n"
     ]
    }
   ],
   "source": [
    "def get_water_neighbours(x,y,z):\n",
    "    return [[x+dx, y+dy, z+dz] for dx in [-1,0,1] for dy in [-1,0,1] for dz in [-1,0,1] if (dx,dy,dz) != (0,0,0) \n",
    "            and -1 <= x+dx <= max_coords+1 and -1 <= y+dy <= max_coords+1 and -1 <= z+dz <= max_coords+1 \n",
    "            and abs(dx)+abs(dy)+abs(dz) <= 1]\n",
    "\n",
    "import numpy as np\n",
    "\n",
    "rocks = [[int(x),int(y),int(z)] for x,y,z in [line.split(',') for line in data]]\n",
    "max_coords = max([max(rock) for rock in rocks])\n",
    "print(f'The maximum coordinates are {max_coords}.')\n",
    "\n",
    "# Use breadth-first search to find all the water locations next to rocks\n",
    "water = []\n",
    "water_neighbors = [[0,0,0]]\n",
    "total_num_sides = 0\n",
    "\n",
    "while water_neighbors:\n",
    "    x,y,z = water_neighbors.pop(0)\n",
    "    water.append([x,y,z])\n",
    "    sides = 0\n",
    "\n",
    "    # For each location of water, find the neighbours\n",
    "    for n in get_water_neighbours(x,y,z):\n",
    "        # If the neighbour is not a rock, and not already water, add it to the water neighbours\n",
    "        if n not in rocks:\n",
    "            if n not in water_neighbors and n not in water:\n",
    "                water_neighbors.append(n)\n",
    "        # If it is a rock, increment the number of sides that touches water\n",
    "        else:\n",
    "            sides += 1\n",
    "    total_num_sides += sides\n",
    "\n",
    "empty_pockets = (max_coords+1)**3 - len(water) - len(rocks)\n",
    "print(f'There are {(max_coords+3)**3 - len(water) - len(rocks)} empty squares')\n",
    "print(f'There are {total_num_sides} exposed sides.')\n"
   ]
  }
 ],
 "metadata": {
  "kernelspec": {
   "display_name": "venv",
   "language": "python",
   "name": "python3"
  },
  "language_info": {
   "codemirror_mode": {
    "name": "ipython",
    "version": 3
   },
   "file_extension": ".py",
   "mimetype": "text/x-python",
   "name": "python",
   "nbconvert_exporter": "python",
   "pygments_lexer": "ipython3",
   "version": "3.8.10"
  }
 },
 "nbformat": 4,
 "nbformat_minor": 2
}
